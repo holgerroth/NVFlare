{
 "cells": [
  {
   "cell_type": "markdown",
   "id": "0f4f2337-5965-4ad1-a774-9a08247c86fa",
   "metadata": {},
   "source": [
    "# Submittin an FL Hub job"
   ]
  },
  {
   "cell_type": "code",
   "execution_count": 1,
   "id": "7fd25999-4939-4799-9f7b-faddafab83f2",
   "metadata": {},
   "outputs": [
    {
     "name": "stdout",
     "output_type": "stream",
     "text": [
      "/home/hroth/Code2/nvflare/flhub/examples/flhub/nvflare_flhub/bin/python3.8\n",
      "3.8.15 (default, Oct 12 2022, 19:15:16) \n",
      "[GCC 11.2.0]\n"
     ]
    }
   ],
   "source": [
    "# add path\n",
    "import sys\n",
    "print(sys.executable)\n",
    "print(sys.version)\n",
    "\n",
    "NVFLARE_HOME=f\"/home/hroth/Code2/nvflare/flhub\"\n",
    "HUB_EXAMPLE=f\"{NVFLARE_HOME}/examples/flhub\"\n",
    "sys.path.append(f\"{NVFLARE_HOME}\")\n",
    "sys.path.append(f\"{NVFLARE_HOME}/examples\")\n",
    "sys.path.append(f\"{NVFLARE_HOME}/integration/monai\")"
   ]
  },
  {
   "cell_type": "code",
   "execution_count": 2,
   "id": "33feee99-4dac-413e-889d-f5dcdf85a994",
   "metadata": {},
   "outputs": [
    {
     "name": "stdout",
     "output_type": "stream",
     "text": [
      "Python 3.8.15\n",
      "pytorch-ignite==0.4.10\n",
      "torch==1.13.0\n",
      "monai==1.0.1\n"
     ]
    }
   ],
   "source": [
    "# (optional) check environment\n",
    "!python --version\n",
    "!pip freeze | grep torch\n",
    "!pip freeze | grep monai"
   ]
  },
  {
   "cell_type": "markdown",
   "id": "ce69e66c-dbbe-457c-a7a8-e0dc1e7adf59",
   "metadata": {},
   "source": [
    "### Open admin api runner"
   ]
  },
  {
   "cell_type": "code",
   "execution_count": 3,
   "id": "e33d376f-9d48-4a85-8387-fe97f0d63921",
   "metadata": {},
   "outputs": [],
   "source": [
    "import msgpack\n",
    "from nvflare.fuel.hci.client.fl_admin_api_runner import FLAdminAPIRunner, api_command_wrapper\n",
    "\n",
    "# Initialize the runner\n",
    "runner = FLAdminAPIRunner(\n",
    "    username=\"admin@nvflare.com\",\n",
    "    admin_dir=f\"{HUB_EXAMPLE}/workspaces/t1_workspace/admin@nvflare.com\",\n",
    "    poc=False,\n",
    "    debug=False,\n",
    ")"
   ]
  },
  {
   "cell_type": "markdown",
   "id": "e256c254-7aed-4498-ab23-c581aa8a67ff",
   "metadata": {},
   "source": [
    "### Submit job"
   ]
  },
  {
   "cell_type": "code",
   "execution_count": 4,
   "id": "3921e07b-093e-492b-9d35-702ed0debb28",
   "metadata": {},
   "outputs": [
    {
     "name": "stdout",
     "output_type": "stream",
     "text": [
      "{'status': <APIStatus.SUCCESS: 'SUCCESS'>, 'details': {'message': 'Submitted job: cb0b5eab-c495-48e7-a53f-ab41512883cf', 'job_id': 'cb0b5eab-c495-48e7-a53f-ab41512883cf'}, 'raw': {'time': '2022-11-07 12:46:51.071888', 'data': [{'type': 'string', 'data': 'Submitted job: cb0b5eab-c495-48e7-a53f-ab41512883cf'}, {'type': 'success', 'data': ''}], 'status': <APIStatus.SUCCESS: 'SUCCESS'>}}\n"
     ]
    },
    {
     "data": {
      "text/plain": [
       "{'status': <APIStatus.SUCCESS: 'SUCCESS'>,\n",
       " 'details': {'message': 'Submitted job: cb0b5eab-c495-48e7-a53f-ab41512883cf',\n",
       "  'job_id': 'cb0b5eab-c495-48e7-a53f-ab41512883cf'},\n",
       " 'raw': {'time': '2022-11-07 12:46:51.071888',\n",
       "  'data': [{'type': 'string',\n",
       "    'data': 'Submitted job: cb0b5eab-c495-48e7-a53f-ab41512883cf'},\n",
       "   {'type': 'success', 'data': ''}],\n",
       "  'status': <APIStatus.SUCCESS: 'SUCCESS'>}}"
      ]
     },
     "execution_count": 4,
     "metadata": {},
     "output_type": "execute_result"
    }
   ],
   "source": [
    "job_folder=f\"{HUB_EXAMPLE}/job-numpy-sag\"\n",
    "api_command_wrapper(runner.api.submit_job(job_folder))"
   ]
  },
  {
   "cell_type": "markdown",
   "id": "ac99fa30-9266-4307-9693-2a32d56b4790",
   "metadata": {},
   "source": [
    "### List jobs"
   ]
  },
  {
   "cell_type": "code",
   "execution_count": 5,
   "id": "2fd2f3f6-4619-446b-baeb-b76763aff30a",
   "metadata": {},
   "outputs": [],
   "source": [
    "%%capture\n",
    "jobs = api_command_wrapper(runner.api.list_jobs())"
   ]
  },
  {
   "cell_type": "code",
   "execution_count": 6,
   "id": "6bead11a-5f97-47d8-99e1-9107e782dd72",
   "metadata": {},
   "outputs": [
    {
     "name": "stdout",
     "output_type": "stream",
     "text": [
      "----------------------------------------------------------------------------------------------------------------------\n",
      "| JOB ID                               | NAME          | STATUS  | SUBMIT TIME                      | RUN DURATION   |\n",
      "----------------------------------------------------------------------------------------------------------------------\n",
      "| cb0b5eab-c495-48e7-a53f-ab41512883cf | spleen-bundle | RUNNING | 2022-11-07T12:46:51.077819-05:00 | 0:00:01.643938 |\n",
      "----------------------------------------------------------------------------------------------------------------------\n",
      "\n"
     ]
    }
   ],
   "source": [
    "print(jobs[\"raw\"][\"data\"][0][\"data\"])"
   ]
  },
  {
   "cell_type": "markdown",
   "id": "9f8e793e-ca35-41f2-8ab9-5f4ec67510b6",
   "metadata": {
    "tags": []
   },
   "source": [
    "### Show server log"
   ]
  },
  {
   "cell_type": "code",
   "execution_count": 11,
   "id": "de19c140-bc0d-47ca-ace7-5004f0267e8c",
   "metadata": {},
   "outputs": [],
   "source": [
    "%%capture\n",
    "reply = api_command_wrapper(runner.api.tail_target_log(\"server\"))"
   ]
  },
  {
   "cell_type": "code",
   "execution_count": 12,
   "id": "c3582d15-04f4-456f-9523-c87b3e9c747c",
   "metadata": {
    "tags": []
   },
   "outputs": [
    {
     "name": "stdout",
     "output_type": "stream",
     "text": [
      "2022-11-07 12:47:00,693 - FederatedServer - INFO - GetTask: Return task: train to client: t1_client_a (533ef5db-08bd-4c7f-8b04-5753b70e976f) \n",
      "2022-11-07 12:47:01,191 - FederatedServer - INFO - GetTask: Return task: train to client: t1_client_b (b035a17a-3e96-4829-a9b8-8858dde53629) \n",
      "2022-11-07 12:47:02,829 - FederatedServer - INFO - received update from t1_project_t1_client_a_0 (1047 Bytes, 1667843222 seconds)\n",
      "2022-11-07 12:47:02,832 - FederatedServer - INFO - received update from t1_project_t1_client_b_0 (1047 Bytes, 1667843222 seconds)\n",
      "2022-11-07 12:47:04,924 - FederatedServer - INFO - GetTask: Return task: train to client: t1_client_a (533ef5db-08bd-4c7f-8b04-5753b70e976f) \n",
      "2022-11-07 12:47:04,931 - FederatedServer - INFO - GetTask: Return task: train to client: t1_client_b (b035a17a-3e96-4829-a9b8-8858dde53629) \n",
      "2022-11-07 12:47:06,983 - FederatedServer - INFO - received update from t1_project_t1_client_a_0 (1047 Bytes, 1667843226 seconds)\n",
      "2022-11-07 12:47:07,526 - FederatedServer - INFO - received update from t1_project_t1_client_b_0 (1047 Bytes, 1667843227 seconds)\n",
      "2022-11-07 12:47:09,041 - FederatedServer - INFO - GetTask: Return task: __end_run__ to client: t1_client_a (533ef5db-08bd-4c7f-8b04-5753b70e976f) \n",
      "2022-11-07 12:47:09,612 - FederatedServer - INFO - GetTask: Return task: __end_run__ to client: t1_client_b (b035a17a-3e96-4829-a9b8-8858dde53629) \n"
     ]
    }
   ],
   "source": [
    "print(reply[\"details\"][\"message\"])"
   ]
  },
  {
   "cell_type": "markdown",
   "id": "634f3dd0-b583-4805-a709-4e6e5fc999e7",
   "metadata": {
    "tags": []
   },
   "source": [
    "### Show Connector-A log"
   ]
  },
  {
   "cell_type": "code",
   "execution_count": 13,
   "id": "21088785-8695-4e74-a7d4-6a5e7d6b8a96",
   "metadata": {},
   "outputs": [],
   "source": [
    "%%capture\n",
    "reply = api_command_wrapper(runner.api.tail_target_log(\"t1_client_a\"))"
   ]
  },
  {
   "cell_type": "code",
   "execution_count": 14,
   "id": "f35e993e-7e27-4417-b138-1d8146d10eac",
   "metadata": {
    "tags": []
   },
   "outputs": [
    {
     "name": "stdout",
     "output_type": "stream",
     "text": [
      "2022-10-31 17:37:48,660 - ClientEngine - INFO - Starting client app. rank: 0\n",
      "2022-10-31 17:37:48,679 - ProcessExecutor - INFO - Worker child process ID: 138361\n",
      "2022-10-31 17:37:50,684 - ProcessExecutor - INFO - run (6fada376-ec91-4ca7-a11f-a8c17f93ec05): waiting for child worker process to finish.\n",
      "2022-10-31 17:38:26,402 - ProcessExecutor - INFO - run (6fada376-ec91-4ca7-a11f-a8c17f93ec05): child worker process finished with execution code: 0\n",
      "2022-11-07 12:44:26,290 - FederatedClient - INFO - Got the new primary SP: localhost:8002\n",
      "2022-11-07 12:44:27,348 - FederatedClient - INFO - Successfully registered client:t1_client_a for project t1_project. Token:533ef5db-08bd-4c7f-8b04-5753b70e976f SSID:ebc6125d-0a56-4688-9b08-355fe9e4d61a\n",
      "2022-11-07 12:46:52,887 - ClientEngine - INFO - Starting client app. rank: 0\n",
      "2022-11-07 12:46:52,908 - ProcessExecutor - INFO - Worker child process ID: 1043544\n",
      "2022-11-07 12:46:54,913 - ProcessExecutor - INFO - run (cb0b5eab-c495-48e7-a53f-ab41512883cf): waiting for child worker process to finish.\n",
      "2022-11-07 12:47:24,871 - ProcessExecutor - INFO - run (cb0b5eab-c495-48e7-a53f-ab41512883cf): child worker process finished with execution code: 0\n"
     ]
    }
   ],
   "source": [
    "print(reply[\"details\"][\"message\"])"
   ]
  },
  {
   "cell_type": "markdown",
   "id": "6ab641db-f58d-4518-8839-6158f87262cb",
   "metadata": {
    "tags": []
   },
   "source": [
    "### Show Connector-B log"
   ]
  },
  {
   "cell_type": "code",
   "execution_count": 8,
   "id": "23d68fd1-72ad-4114-ad27-68b333b00c23",
   "metadata": {},
   "outputs": [],
   "source": [
    "%%capture\n",
    "reply = api_command_wrapper(runner.api.tail_target_log(\"t1_client_b\"))"
   ]
  },
  {
   "cell_type": "code",
   "execution_count": 9,
   "id": "c2d49cde-4649-4677-b703-8cf57f36d2e4",
   "metadata": {
    "tags": []
   },
   "outputs": [
    {
     "name": "stdout",
     "output_type": "stream",
     "text": [
      "2022-11-07 12:47:00,693 - FederatedServer - INFO - GetTask: Return task: train to client: t1_client_a (533ef5db-08bd-4c7f-8b04-5753b70e976f) \n",
      "2022-11-07 12:47:01,191 - FederatedServer - INFO - GetTask: Return task: train to client: t1_client_b (b035a17a-3e96-4829-a9b8-8858dde53629) \n",
      "2022-11-07 12:47:02,829 - FederatedServer - INFO - received update from t1_project_t1_client_a_0 (1047 Bytes, 1667843222 seconds)\n",
      "2022-11-07 12:47:02,832 - FederatedServer - INFO - received update from t1_project_t1_client_b_0 (1047 Bytes, 1667843222 seconds)\n",
      "2022-11-07 12:47:04,924 - FederatedServer - INFO - GetTask: Return task: train to client: t1_client_a (533ef5db-08bd-4c7f-8b04-5753b70e976f) \n",
      "2022-11-07 12:47:04,931 - FederatedServer - INFO - GetTask: Return task: train to client: t1_client_b (b035a17a-3e96-4829-a9b8-8858dde53629) \n",
      "2022-11-07 12:47:06,983 - FederatedServer - INFO - received update from t1_project_t1_client_a_0 (1047 Bytes, 1667843226 seconds)\n",
      "2022-11-07 12:47:07,526 - FederatedServer - INFO - received update from t1_project_t1_client_b_0 (1047 Bytes, 1667843227 seconds)\n",
      "2022-11-07 12:47:09,041 - FederatedServer - INFO - GetTask: Return task: __end_run__ to client: t1_client_a (533ef5db-08bd-4c7f-8b04-5753b70e976f) \n",
      "2022-11-07 12:47:09,612 - FederatedServer - INFO - GetTask: Return task: __end_run__ to client: t1_client_b (b035a17a-3e96-4829-a9b8-8858dde53629) \n"
     ]
    }
   ],
   "source": [
    "print(reply[\"details\"][\"message\"])"
   ]
  },
  {
   "cell_type": "markdown",
   "id": "178d79bf-9c00-41e6-a1e4-6efae1e7e905",
   "metadata": {},
   "source": [
    "### Finish"
   ]
  },
  {
   "cell_type": "code",
   "execution_count": 7,
   "id": "e7d1e526-d4bc-43a0-bc7e-8ba80bdaa42e",
   "metadata": {},
   "outputs": [
    {
     "data": {
      "text/plain": [
       "{'status': <APIStatus.ERROR_INACTIVE_SESSION: 'ERROR_INACTIVE_SESSION'>,\n",
       " 'details': 'session is logging out'}"
      ]
     },
     "execution_count": 7,
     "metadata": {},
     "output_type": "execute_result"
    }
   ],
   "source": [
    "runner.api.logout()"
   ]
  },
  {
   "cell_type": "markdown",
   "id": "5d73a35d-8ddf-4163-8843-6b68a1909a43",
   "metadata": {},
   "source": [
    "# Show TensorBoard"
   ]
  },
  {
   "cell_type": "code",
   "execution_count": 8,
   "id": "973dce2f-9da3-46b2-a225-30591bb104e4",
   "metadata": {},
   "outputs": [
    {
     "data": {
      "text/html": [
       "\n",
       "      <iframe id=\"tensorboard-frame-6fa7024eb839be94\" width=\"100%\" height=\"800\" frameborder=\"0\">\n",
       "      </iframe>\n",
       "      <script>\n",
       "        (function() {\n",
       "          const frame = document.getElementById(\"tensorboard-frame-6fa7024eb839be94\");\n",
       "          const url = new URL(\"/\", window.location);\n",
       "          const port = 6006;\n",
       "          if (port) {\n",
       "            url.port = port;\n",
       "          }\n",
       "          frame.src = url;\n",
       "        })();\n",
       "      </script>\n",
       "    "
      ],
      "text/plain": [
       "<IPython.core.display.HTML object>"
      ]
     },
     "metadata": {},
     "output_type": "display_data"
    }
   ],
   "source": [
    "%load_ext tensorboard\n",
    "%tensorboard --logdir \"/home/hroth/Code2/nvflare/flhub\""
   ]
  },
  {
   "cell_type": "code",
   "execution_count": null,
   "id": "07de5733-54e8-472c-9071-994387966e5a",
   "metadata": {},
   "outputs": [],
   "source": []
  }
 ],
 "metadata": {
  "kernelspec": {
   "display_name": "Python 3.8 (ipykernel)",
   "language": "python",
   "name": "python3.8"
  },
  "language_info": {
   "codemirror_mode": {
    "name": "ipython",
    "version": 3
   },
   "file_extension": ".py",
   "mimetype": "text/x-python",
   "name": "python",
   "nbconvert_exporter": "python",
   "pygments_lexer": "ipython3",
   "version": "3.8.15"
  }
 },
 "nbformat": 4,
 "nbformat_minor": 5
}
