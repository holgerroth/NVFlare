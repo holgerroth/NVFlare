{
 "cells": [
  {
   "cell_type": "markdown",
   "id": "0f4f2337-5965-4ad1-a774-9a08247c86fa",
   "metadata": {},
   "source": [
    "# Submittin an FL Hub job"
   ]
  },
  {
   "cell_type": "code",
   "execution_count": 1,
   "id": "7fd25999-4939-4799-9f7b-faddafab83f2",
   "metadata": {},
   "outputs": [
    {
     "name": "stdout",
     "output_type": "stream",
     "text": [
      "/home/hroth/Code2/nvflare/flhub/examples/flhub/nvflare_flhub/bin/python3.8\n",
      "3.8.15 (default, Oct 12 2022, 19:15:16) \n",
      "[GCC 11.2.0]\n"
     ]
    }
   ],
   "source": [
    "# add path\n",
    "import sys\n",
    "print(sys.executable)\n",
    "print(sys.version)\n",
    "\n",
    "NVFLARE_HOME=f\"/home/hroth/Code2/nvflare/flhub\"\n",
    "HUB_EXAMPLE=f\"{NVFLARE_HOME}/examples/flhub\"\n",
    "sys.path.append(f\"{NVFLARE_HOME}\")\n",
    "sys.path.append(f\"{NVFLARE_HOME}/examples\")\n",
    "sys.path.append(f\"{NVFLARE_HOME}/integration/monai\")"
   ]
  },
  {
   "cell_type": "code",
   "execution_count": 2,
   "id": "33feee99-4dac-413e-889d-f5dcdf85a994",
   "metadata": {},
   "outputs": [
    {
     "name": "stdout",
     "output_type": "stream",
     "text": [
      "Python 3.8.15\n",
      "pytorch-ignite==0.4.10\n",
      "torch==1.13.0\n",
      "monai==1.0.1\n"
     ]
    }
   ],
   "source": [
    "# (optional) check environment\n",
    "!python --version\n",
    "!pip freeze | grep torch\n",
    "!pip freeze | grep monai"
   ]
  },
  {
   "cell_type": "markdown",
   "id": "ce69e66c-dbbe-457c-a7a8-e0dc1e7adf59",
   "metadata": {},
   "source": [
    "### Open admin api runner"
   ]
  },
  {
   "cell_type": "code",
   "execution_count": 3,
   "id": "e33d376f-9d48-4a85-8387-fe97f0d63921",
   "metadata": {},
   "outputs": [],
   "source": [
    "import msgpack\n",
    "from nvflare.fuel.hci.client.fl_admin_api_runner import FLAdminAPIRunner, api_command_wrapper\n",
    "\n",
    "# Initialize the runner\n",
    "runner = FLAdminAPIRunner(\n",
    "    username=\"admin@nvflare.com\",\n",
    "    admin_dir=f\"{HUB_EXAMPLE}/workspaces/t1_workspace/admin@nvflare.com\",\n",
    "    poc=False,\n",
    "    debug=False,\n",
    ")"
   ]
  },
  {
   "cell_type": "markdown",
   "id": "e256c254-7aed-4498-ab23-c581aa8a67ff",
   "metadata": {},
   "source": [
    "### Submit job"
   ]
  },
  {
   "cell_type": "code",
   "execution_count": 4,
   "id": "3921e07b-093e-492b-9d35-702ed0debb28",
   "metadata": {},
   "outputs": [
    {
     "name": "stdout",
     "output_type": "stream",
     "text": [
      "{'status': <APIStatus.SUCCESS: 'SUCCESS'>, 'details': {'message': 'Submitted job: 6fada376-ec91-4ca7-a11f-a8c17f93ec05', 'job_id': '6fada376-ec91-4ca7-a11f-a8c17f93ec05'}, 'raw': {'time': '2022-10-31 17:37:46.883447', 'data': [{'type': 'string', 'data': 'Submitted job: 6fada376-ec91-4ca7-a11f-a8c17f93ec05'}, {'type': 'success', 'data': ''}], 'status': <APIStatus.SUCCESS: 'SUCCESS'>}}\n"
     ]
    },
    {
     "data": {
      "text/plain": [
       "{'status': <APIStatus.SUCCESS: 'SUCCESS'>,\n",
       " 'details': {'message': 'Submitted job: 6fada376-ec91-4ca7-a11f-a8c17f93ec05',\n",
       "  'job_id': '6fada376-ec91-4ca7-a11f-a8c17f93ec05'},\n",
       " 'raw': {'time': '2022-10-31 17:37:46.883447',\n",
       "  'data': [{'type': 'string',\n",
       "    'data': 'Submitted job: 6fada376-ec91-4ca7-a11f-a8c17f93ec05'},\n",
       "   {'type': 'success', 'data': ''}],\n",
       "  'status': <APIStatus.SUCCESS: 'SUCCESS'>}}"
      ]
     },
     "execution_count": 4,
     "metadata": {},
     "output_type": "execute_result"
    }
   ],
   "source": [
    "job_folder=f\"{HUB_EXAMPLE}/job-numpy-sag\"\n",
    "api_command_wrapper(runner.api.submit_job(job_folder))"
   ]
  },
  {
   "cell_type": "markdown",
   "id": "ac99fa30-9266-4307-9693-2a32d56b4790",
   "metadata": {},
   "source": [
    "### List jobs"
   ]
  },
  {
   "cell_type": "code",
   "execution_count": 5,
   "id": "2fd2f3f6-4619-446b-baeb-b76763aff30a",
   "metadata": {},
   "outputs": [],
   "source": [
    "%%capture\n",
    "jobs = api_command_wrapper(runner.api.list_jobs())"
   ]
  },
  {
   "cell_type": "code",
   "execution_count": 6,
   "id": "6bead11a-5f97-47d8-99e1-9107e782dd72",
   "metadata": {},
   "outputs": [
    {
     "name": "stdout",
     "output_type": "stream",
     "text": [
      "-----------------------------------------------------------------------------------------------------------------------------------\n",
      "| JOB ID                               | NAME            | STATUS             | SUBMIT TIME                      | RUN DURATION   |\n",
      "-----------------------------------------------------------------------------------------------------------------------------------\n",
      "| 382f24ab-70df-4c9f-8c58-57cd8b8335b3 | hello-numpy-sag | FINISHED:COMPLETED | 2022-10-31T15:13:40.255779-04:00 | 0:00:54.435948 |\n",
      "| 67cedd02-5674-425b-a91e-2cf62de1462c | hello-numpy-sag | FINISHED:COMPLETED | 2022-10-31T15:18:31.186145-04:00 | 0:00:55.149295 |\n",
      "| 80bbf383-5e29-4ab9-a19c-2d3424db84b4 | spleen-bundle   | FINISHED:COMPLETED | 2022-10-31T15:27:32.733422-04:00 | 0:02:27.972143 |\n",
      "| d69dbfa8-4d4d-4f53-b05e-e98c09a12084 | spleen-bundle   | FINISHED:COMPLETED | 2022-10-31T16:41:08.431428-04:00 | 0:00:40.006068 |\n",
      "| 7a9411d8-604d-430d-98b3-772df2155cb9 | spleen-bundle   | FINISHED:COMPLETED | 2022-10-31T17:25:52.435444-04:00 | 0:00:30.538654 |\n",
      "| b41fda19-ad10-4a51-8bdd-b1086b3083b1 | spleen-bundle   | FINISHED:COMPLETED | 2022-10-31T17:33:39.939413-04:00 | 0:00:40.379751 |\n",
      "| 6fada376-ec91-4ca7-a11f-a8c17f93ec05 | spleen-bundle   | SUBMITTED          | 2022-10-31T17:37:46.889663-04:00 | N/A            |\n",
      "-----------------------------------------------------------------------------------------------------------------------------------\n",
      "\n"
     ]
    }
   ],
   "source": [
    "print(jobs[\"raw\"][\"data\"][0][\"data\"])"
   ]
  },
  {
   "cell_type": "markdown",
   "id": "178d79bf-9c00-41e6-a1e4-6efae1e7e905",
   "metadata": {},
   "source": [
    "### Finish"
   ]
  },
  {
   "cell_type": "code",
   "execution_count": 7,
   "id": "e7d1e526-d4bc-43a0-bc7e-8ba80bdaa42e",
   "metadata": {},
   "outputs": [
    {
     "data": {
      "text/plain": [
       "{'status': <APIStatus.ERROR_INACTIVE_SESSION: 'ERROR_INACTIVE_SESSION'>,\n",
       " 'details': 'session is logging out'}"
      ]
     },
     "execution_count": 7,
     "metadata": {},
     "output_type": "execute_result"
    }
   ],
   "source": [
    "runner.api.logout()"
   ]
  },
  {
   "cell_type": "markdown",
   "id": "5d73a35d-8ddf-4163-8843-6b68a1909a43",
   "metadata": {},
   "source": [
    "# Show TensorBoard"
   ]
  },
  {
   "cell_type": "code",
   "execution_count": 8,
   "id": "973dce2f-9da3-46b2-a225-30591bb104e4",
   "metadata": {},
   "outputs": [
    {
     "data": {
      "text/html": [
       "\n",
       "      <iframe id=\"tensorboard-frame-6fa7024eb839be94\" width=\"100%\" height=\"800\" frameborder=\"0\">\n",
       "      </iframe>\n",
       "      <script>\n",
       "        (function() {\n",
       "          const frame = document.getElementById(\"tensorboard-frame-6fa7024eb839be94\");\n",
       "          const url = new URL(\"/\", window.location);\n",
       "          const port = 6006;\n",
       "          if (port) {\n",
       "            url.port = port;\n",
       "          }\n",
       "          frame.src = url;\n",
       "        })();\n",
       "      </script>\n",
       "    "
      ],
      "text/plain": [
       "<IPython.core.display.HTML object>"
      ]
     },
     "metadata": {},
     "output_type": "display_data"
    }
   ],
   "source": [
    "%load_ext tensorboard\n",
    "%tensorboard --logdir \"/home/hroth/Code2/nvflare/flhub\""
   ]
  },
  {
   "cell_type": "code",
   "execution_count": null,
   "id": "07de5733-54e8-472c-9071-994387966e5a",
   "metadata": {},
   "outputs": [],
   "source": []
  }
 ],
 "metadata": {
  "kernelspec": {
   "display_name": "Python 3.8 (ipykernel)",
   "language": "python",
   "name": "python3.8"
  },
  "language_info": {
   "codemirror_mode": {
    "name": "ipython",
    "version": 3
   },
   "file_extension": ".py",
   "mimetype": "text/x-python",
   "name": "python",
   "nbconvert_exporter": "python",
   "pygments_lexer": "ipython3",
   "version": "3.8.15"
  }
 },
 "nbformat": 4,
 "nbformat_minor": 5
}
