{
 "cells": [
  {
   "cell_type": "markdown",
   "id": "0f4f2337-5965-4ad1-a774-9a08247c86fa",
   "metadata": {},
   "source": [
    "# Submittin an FL Hub job"
   ]
  },
  {
   "cell_type": "code",
   "execution_count": 1,
   "id": "7fd25999-4939-4799-9f7b-faddafab83f2",
   "metadata": {},
   "outputs": [
    {
     "name": "stdout",
     "output_type": "stream",
     "text": [
      "/home/hroth/Code2/nvflare/flhub/examples/flhub/nvflare_flhub/bin/python3.8\n",
      "3.8.15 (default, Oct 12 2022, 19:15:16) \n",
      "[GCC 11.2.0]\n"
     ]
    }
   ],
   "source": [
    "# add path\n",
    "import sys\n",
    "print(sys.executable)\n",
    "print(sys.version)\n",
    "\n",
    "NVFLARE_HOME=f\"/home/hroth/Code2/nvflare/flhub\"\n",
    "HUB_EXAMPLE=f\"{NVFLARE_HOME}/examples/flhub\"\n",
    "sys.path.append(f\"{NVFLARE_HOME}\")\n",
    "sys.path.append(f\"{NVFLARE_HOME}/examples\")\n",
    "sys.path.append(f\"{NVFLARE_HOME}/integration/monai\")"
   ]
  },
  {
   "cell_type": "code",
   "execution_count": 2,
   "id": "33feee99-4dac-413e-889d-f5dcdf85a994",
   "metadata": {},
   "outputs": [
    {
     "name": "stdout",
     "output_type": "stream",
     "text": [
      "Python 3.8.15\n",
      "pytorch-ignite==0.4.10\n",
      "torch==1.13.0\n",
      "monai==1.0.1\n"
     ]
    }
   ],
   "source": [
    "# (optional) check environment\n",
    "!python --version\n",
    "!pip freeze | grep torch\n",
    "!pip freeze | grep monai"
   ]
  },
  {
   "cell_type": "markdown",
   "id": "ce69e66c-dbbe-457c-a7a8-e0dc1e7adf59",
   "metadata": {},
   "source": [
    "### Open admin api runner"
   ]
  },
  {
   "cell_type": "code",
   "execution_count": 3,
   "id": "e33d376f-9d48-4a85-8387-fe97f0d63921",
   "metadata": {},
   "outputs": [],
   "source": [
    "import msgpack\n",
    "from nvflare.fuel.hci.client.fl_admin_api_runner import FLAdminAPIRunner, api_command_wrapper\n",
    "\n",
    "# Initialize the runner\n",
    "runner = FLAdminAPIRunner(\n",
    "    username=\"admin@nvflare.com\",\n",
    "    admin_dir=f\"{HUB_EXAMPLE}/workspaces/t1_workspace/admin@nvflare.com\",\n",
    "    poc=False,\n",
    "    debug=False,\n",
    ")"
   ]
  },
  {
   "cell_type": "markdown",
   "id": "e256c254-7aed-4498-ab23-c581aa8a67ff",
   "metadata": {},
   "source": [
    "### Submit job"
   ]
  },
  {
   "cell_type": "code",
   "execution_count": 4,
   "id": "3921e07b-093e-492b-9d35-702ed0debb28",
   "metadata": {},
   "outputs": [
    {
     "name": "stdout",
     "output_type": "stream",
     "text": [
      "{'status': <APIStatus.SUCCESS: 'SUCCESS'>, 'details': {'message': 'Submitted job: 5d42179a-f65b-4470-bca6-f3cd967b40a4', 'job_id': '5d42179a-f65b-4470-bca6-f3cd967b40a4'}, 'raw': {'time': '2022-11-08 10:49:08.664204', 'data': [{'type': 'string', 'data': 'Submitted job: 5d42179a-f65b-4470-bca6-f3cd967b40a4'}, {'type': 'success', 'data': ''}], 'status': <APIStatus.SUCCESS: 'SUCCESS'>}}\n"
     ]
    },
    {
     "data": {
      "text/plain": [
       "{'status': <APIStatus.SUCCESS: 'SUCCESS'>,\n",
       " 'details': {'message': 'Submitted job: 5d42179a-f65b-4470-bca6-f3cd967b40a4',\n",
       "  'job_id': '5d42179a-f65b-4470-bca6-f3cd967b40a4'},\n",
       " 'raw': {'time': '2022-11-08 10:49:08.664204',\n",
       "  'data': [{'type': 'string',\n",
       "    'data': 'Submitted job: 5d42179a-f65b-4470-bca6-f3cd967b40a4'},\n",
       "   {'type': 'success', 'data': ''}],\n",
       "  'status': <APIStatus.SUCCESS: 'SUCCESS'>}}"
      ]
     },
     "execution_count": 4,
     "metadata": {},
     "output_type": "execute_result"
    }
   ],
   "source": [
    "job_folder=f\"{HUB_EXAMPLE}/job\"\n",
    "api_command_wrapper(runner.api.submit_job(job_folder))"
   ]
  },
  {
   "cell_type": "markdown",
   "id": "ac99fa30-9266-4307-9693-2a32d56b4790",
   "metadata": {},
   "source": [
    "### List jobs"
   ]
  },
  {
   "cell_type": "code",
   "execution_count": 5,
   "id": "2fd2f3f6-4619-446b-baeb-b76763aff30a",
   "metadata": {},
   "outputs": [],
   "source": [
    "%%capture\n",
    "jobs = api_command_wrapper(runner.api.list_jobs())"
   ]
  },
  {
   "cell_type": "code",
   "execution_count": 6,
   "id": "6bead11a-5f97-47d8-99e1-9107e782dd72",
   "metadata": {},
   "outputs": [
    {
     "name": "stdout",
     "output_type": "stream",
     "text": [
      "---------------------------------------------------------------------------------------------------------------------------------\n",
      "| JOB ID                               | NAME          | STATUS             | SUBMIT TIME                      | RUN DURATION   |\n",
      "---------------------------------------------------------------------------------------------------------------------------------\n",
      "| dfb2b200-7430-4dd0-9d28-0a9928a6538e | spleen-bundle | FINISHED:COMPLETED | 2022-11-08T10:08:39.813055-05:00 | 0:18:38.519946 |\n",
      "| 660cd992-f2a5-4142-bf92-d218a59858df | spleen-bundle | FINISHED:COMPLETED | 2022-11-08T10:42:00.855532-05:00 | 0:00:45.770343 |\n",
      "| 1c332ac8-1206-480f-a34d-8caa5005a908 | spleen-bundle | FINISHED:COMPLETED | 2022-11-08T10:44:09.934393-05:00 | 0:00:47.107029 |\n",
      "| 5d42179a-f65b-4470-bca6-f3cd967b40a4 | spleen-bundle | SUBMITTED          | 2022-11-08T10:49:08.676352-05:00 | N/A            |\n",
      "---------------------------------------------------------------------------------------------------------------------------------\n",
      "\n"
     ]
    }
   ],
   "source": [
    "print(jobs[\"raw\"][\"data\"][0][\"data\"])"
   ]
  },
  {
   "cell_type": "markdown",
   "id": "9f8e793e-ca35-41f2-8ab9-5f4ec67510b6",
   "metadata": {
    "tags": []
   },
   "source": [
    "### Show server log"
   ]
  },
  {
   "cell_type": "code",
   "execution_count": 7,
   "id": "de19c140-bc0d-47ca-ace7-5004f0267e8c",
   "metadata": {},
   "outputs": [],
   "source": [
    "%%capture\n",
    "reply = api_command_wrapper(runner.api.tail_target_log(\"server\"))"
   ]
  },
  {
   "cell_type": "code",
   "execution_count": 8,
   "id": "c3582d15-04f4-456f-9523-c87b3e9c747c",
   "metadata": {
    "tags": []
   },
   "outputs": [
    {
     "name": "stdout",
     "output_type": "stream",
     "text": [
      "2022-11-08 10:44:10,873 - JobRunner - INFO - [identity=t1_project, run=?]: Got the job:1c332ac8-1206-480f-a34d-8caa5005a908 from the scheduler to run\n",
      "2022-11-08 10:44:10,890 - JobRunner - INFO - [identity=t1_project, run=?]: Application t1_app deployed to the server for job: 1c332ac8-1206-480f-a34d-8caa5005a908\n",
      "2022-11-08 10:44:10,899 - JobRunner - INFO - [identity=t1_project, run=?]: App t2a_app to be deployed to the clients: t1_client_a for run: 1c332ac8-1206-480f-a34d-8caa5005a908\n",
      "2022-11-08 10:44:10,906 - JobRunner - INFO - [identity=t1_project, run=?]: App t2b_app to be deployed to the clients: t1_client_b for run: 1c332ac8-1206-480f-a34d-8caa5005a908\n",
      "2022-11-08 10:44:11,867 - JobRunner - INFO - [identity=t1_project, run=?]: Started run: 1c332ac8-1206-480f-a34d-8caa5005a908 for clients: t1_client_a,t1_client_b\n",
      "2022-11-08 10:44:14,624 - FederatedServer - INFO - GetTask: Return task: train to client: t1_client_a (bad79a75-a7e2-45fe-aedc-bded6e28290c) \n",
      "2022-11-08 10:44:15,038 - FederatedServer - INFO - GetTask: Return task: train to client: t1_client_b (6bda7d8a-0de2-469b-9666-9c6a0cc08245) \n",
      "2022-11-08 10:44:52,951 - FederatedServer - INFO - received update from t1_project_t1_client_a_0 (1004 Bytes, 1667922292 seconds)\n",
      "2022-11-08 10:44:55,085 - FederatedServer - INFO - GetTask: Return task: __end_run__ to client: t1_client_a (bad79a75-a7e2-45fe-aedc-bded6e28290c) \n",
      "2022-11-08 10:44:55,086 - FederatedServer - INFO - received update from t1_project_t1_client_b_0 (1004 Bytes, 1667922295 seconds)\n"
     ]
    }
   ],
   "source": [
    "print(reply[\"details\"][\"message\"])"
   ]
  },
  {
   "cell_type": "markdown",
   "id": "634f3dd0-b583-4805-a709-4e6e5fc999e7",
   "metadata": {
    "tags": []
   },
   "source": [
    "### Show Connector-A log"
   ]
  },
  {
   "cell_type": "code",
   "execution_count": 9,
   "id": "21088785-8695-4e74-a7d4-6a5e7d6b8a96",
   "metadata": {},
   "outputs": [],
   "source": [
    "%%capture\n",
    "reply = api_command_wrapper(runner.api.tail_target_log(\"t1_client_a\"))"
   ]
  },
  {
   "cell_type": "code",
   "execution_count": 10,
   "id": "f35e993e-7e27-4417-b138-1d8146d10eac",
   "metadata": {
    "tags": []
   },
   "outputs": [
    {
     "name": "stdout",
     "output_type": "stream",
     "text": [
      "2022-11-08 10:08:44,074 - ProcessExecutor - INFO - run (dfb2b200-7430-4dd0-9d28-0a9928a6538e): waiting for child worker process to finish.\n",
      "2022-11-08 10:27:22,501 - ProcessExecutor - INFO - run (dfb2b200-7430-4dd0-9d28-0a9928a6538e): child worker process finished with execution code: 0\n",
      "2022-11-08 10:42:02,986 - ClientEngine - INFO - Starting client app. rank: 0\n",
      "2022-11-08 10:42:03,005 - ProcessExecutor - INFO - Worker child process ID: 2466071\n",
      "2022-11-08 10:42:05,009 - ProcessExecutor - INFO - run (660cd992-f2a5-4142-bf92-d218a59858df): waiting for child worker process to finish.\n",
      "2022-11-08 10:42:52,765 - ProcessExecutor - INFO - run (660cd992-f2a5-4142-bf92-d218a59858df): child worker process finished with execution code: 0\n",
      "2022-11-08 10:44:11,712 - ClientEngine - INFO - Starting client app. rank: 0\n",
      "2022-11-08 10:44:11,735 - ProcessExecutor - INFO - Worker child process ID: 2470502\n",
      "2022-11-08 10:44:13,756 - ProcessExecutor - INFO - run (1c332ac8-1206-480f-a34d-8caa5005a908): waiting for child worker process to finish.\n",
      "2022-11-08 10:45:01,447 - ProcessExecutor - INFO - run (1c332ac8-1206-480f-a34d-8caa5005a908): child worker process finished with execution code: 0\n"
     ]
    }
   ],
   "source": [
    "print(reply[\"details\"][\"message\"])"
   ]
  },
  {
   "cell_type": "markdown",
   "id": "6ab641db-f58d-4518-8839-6158f87262cb",
   "metadata": {
    "tags": []
   },
   "source": [
    "### Show Connector-B log"
   ]
  },
  {
   "cell_type": "code",
   "execution_count": 11,
   "id": "23d68fd1-72ad-4114-ad27-68b333b00c23",
   "metadata": {},
   "outputs": [],
   "source": [
    "%%capture\n",
    "reply = api_command_wrapper(runner.api.tail_target_log(\"t1_client_b\"))"
   ]
  },
  {
   "cell_type": "code",
   "execution_count": 12,
   "id": "c2d49cde-4649-4677-b703-8cf57f36d2e4",
   "metadata": {
    "tags": []
   },
   "outputs": [
    {
     "name": "stdout",
     "output_type": "stream",
     "text": [
      "2022-11-08 10:08:44,179 - ProcessExecutor - INFO - run (dfb2b200-7430-4dd0-9d28-0a9928a6538e): waiting for child worker process to finish.\n",
      "2022-11-08 10:27:22,623 - ProcessExecutor - INFO - run (dfb2b200-7430-4dd0-9d28-0a9928a6538e): child worker process finished with execution code: 0\n",
      "2022-11-08 10:42:02,985 - ClientEngine - INFO - Starting client app. rank: 0\n",
      "2022-11-08 10:42:03,005 - ProcessExecutor - INFO - Worker child process ID: 2466066\n",
      "2022-11-08 10:42:05,010 - ProcessExecutor - INFO - run (660cd992-f2a5-4142-bf92-d218a59858df): waiting for child worker process to finish.\n",
      "2022-11-08 10:42:52,820 - ProcessExecutor - INFO - run (660cd992-f2a5-4142-bf92-d218a59858df): child worker process finished with execution code: 0\n",
      "2022-11-08 10:44:11,720 - ClientEngine - INFO - Starting client app. rank: 0\n",
      "2022-11-08 10:44:11,753 - ProcessExecutor - INFO - Worker child process ID: 2470509\n",
      "2022-11-08 10:44:13,763 - ProcessExecutor - INFO - run (1c332ac8-1206-480f-a34d-8caa5005a908): waiting for child worker process to finish.\n",
      "2022-11-08 10:45:01,554 - ProcessExecutor - INFO - run (1c332ac8-1206-480f-a34d-8caa5005a908): child worker process finished with execution code: 0\n"
     ]
    }
   ],
   "source": [
    "print(reply[\"details\"][\"message\"])"
   ]
  },
  {
   "cell_type": "markdown",
   "id": "178d79bf-9c00-41e6-a1e4-6efae1e7e905",
   "metadata": {},
   "source": [
    "### Finish"
   ]
  },
  {
   "cell_type": "code",
   "execution_count": 13,
   "id": "e7d1e526-d4bc-43a0-bc7e-8ba80bdaa42e",
   "metadata": {},
   "outputs": [
    {
     "data": {
      "text/plain": [
       "{'status': <APIStatus.ERROR_INACTIVE_SESSION: 'ERROR_INACTIVE_SESSION'>,\n",
       " 'details': 'session is logging out'}"
      ]
     },
     "execution_count": 13,
     "metadata": {},
     "output_type": "execute_result"
    }
   ],
   "source": [
    "runner.api.logout()"
   ]
  },
  {
   "cell_type": "markdown",
   "id": "5d73a35d-8ddf-4163-8843-6b68a1909a43",
   "metadata": {},
   "source": [
    "# Show TensorBoard"
   ]
  },
  {
   "cell_type": "code",
   "execution_count": 14,
   "id": "973dce2f-9da3-46b2-a225-30591bb104e4",
   "metadata": {},
   "outputs": [
    {
     "data": {
      "text/html": [
       "\n",
       "      <iframe id=\"tensorboard-frame-a99d398ae3725a0c\" width=\"100%\" height=\"800\" frameborder=\"0\">\n",
       "      </iframe>\n",
       "      <script>\n",
       "        (function() {\n",
       "          const frame = document.getElementById(\"tensorboard-frame-a99d398ae3725a0c\");\n",
       "          const url = new URL(\"/\", window.location);\n",
       "          const port = 6006;\n",
       "          if (port) {\n",
       "            url.port = port;\n",
       "          }\n",
       "          frame.src = url;\n",
       "        })();\n",
       "      </script>\n",
       "    "
      ],
      "text/plain": [
       "<IPython.core.display.HTML object>"
      ]
     },
     "metadata": {},
     "output_type": "display_data"
    }
   ],
   "source": [
    "# load only the hub server workspace\n",
    "%load_ext tensorboard\n",
    "%tensorboard --logdir \"/home/hroth/Code2/nvflare/flhub/examples/flhub/workspaces/t1_workspace/localhost\""
   ]
  },
  {
   "cell_type": "markdown",
   "id": "ef40053a-1f96-457c-8f9f-fce8073fe1a3",
   "metadata": {},
   "source": [
    "Note. The tensorboard should also be available at [http://localhost:6006](http://localhost:6006)."
   ]
  },
  {
   "cell_type": "code",
   "execution_count": null,
   "id": "e25120a8-271e-4c8a-8d3d-e83c62e18286",
   "metadata": {},
   "outputs": [],
   "source": []
  }
 ],
 "metadata": {
  "kernelspec": {
   "display_name": "Python 3.8 (ipykernel)",
   "language": "python",
   "name": "python3.8"
  },
  "language_info": {
   "codemirror_mode": {
    "name": "ipython",
    "version": 3
   },
   "file_extension": ".py",
   "mimetype": "text/x-python",
   "name": "python",
   "nbconvert_exporter": "python",
   "pygments_lexer": "ipython3",
   "version": "3.8.15"
  }
 },
 "nbformat": 4,
 "nbformat_minor": 5
}
