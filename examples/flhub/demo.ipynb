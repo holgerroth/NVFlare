{
 "cells": [
  {
   "cell_type": "markdown",
   "id": "0f4f2337-5965-4ad1-a774-9a08247c86fa",
   "metadata": {},
   "source": [
    "# Submittin an FL Hub job"
   ]
  },
  {
   "cell_type": "code",
   "execution_count": 1,
   "id": "7fd25999-4939-4799-9f7b-faddafab83f2",
   "metadata": {},
   "outputs": [
    {
     "name": "stdout",
     "output_type": "stream",
     "text": [
      "/home/hroth/Code2/nvflare/flhub/examples/flhub/nvflare_flhub/bin/python3.8\n",
      "3.8.15 (default, Oct 12 2022, 19:15:16) \n",
      "[GCC 11.2.0]\n"
     ]
    }
   ],
   "source": [
    "# add path\n",
    "import sys\n",
    "print(sys.executable)\n",
    "print(sys.version)\n",
    "\n",
    "NVFLARE_HOME=f\"/home/hroth/Code2/nvflare/flhub\"\n",
    "HUB_EXAMPLE=f\"{NVFLARE_HOME}/examples/flhub\"\n",
    "sys.path.append(f\"{NVFLARE_HOME}\")\n",
    "sys.path.append(f\"{NVFLARE_HOME}/examples\")\n",
    "sys.path.append(f\"{NVFLARE_HOME}/integration/monai\")"
   ]
  },
  {
   "cell_type": "code",
   "execution_count": 2,
   "id": "33feee99-4dac-413e-889d-f5dcdf85a994",
   "metadata": {},
   "outputs": [
    {
     "name": "stdout",
     "output_type": "stream",
     "text": [
      "Python 3.8.15\n",
      "Traceback (most recent call last):\n",
      "  File \"/home/hroth/Code2/nvflare/flhub/examples/flhub/nvflare_flhub/bin/pip\", line 5, in <module>\n",
      "    from pip._internal.cli.main import main\n",
      "  File \"/home/hroth/Code2/nvflare/flhub/examples/flhub/nvflare_flhub/lib/python3.8/site-packages/pip/_internal/cli/main.py\", line 9, in <module>\n",
      "    from pip._internal.cli.autocompletion import autocomplete\n",
      "  File \"/home/hroth/Code2/nvflare/flhub/examples/flhub/nvflare_flhub/lib/python3.8/site-packages/pip/_internal/cli/autocompletion.py\", line 10, in <module>\n",
      "    from pip._internal.cli.main_parser import create_main_parser\n",
      "  File \"/home/hroth/Code2/nvflare/flhub/examples/flhub/nvflare_flhub/lib/python3.8/site-packages/pip/_internal/cli/main_parser.py\", line 9, in <module>\n",
      "    from pip._internal.build_env import get_runnable_pip\n",
      "  File \"/home/hroth/Code2/nvflare/flhub/examples/flhub/nvflare_flhub/lib/python3.8/site-packages/pip/_internal/build_env.py\", line 16, in <module>\n",
      "    from pip._vendor.packaging.requirements import Requirement\n",
      "  File \"/home/hroth/Code2/nvflare/flhub/examples/flhub/nvflare_flhub/lib/python3.8/site-packages/pip/_vendor/packaging/requirements.py\", line 12, in <module>\n",
      "    from pip._vendor.pyparsing import Combine\n",
      "  File \"/home/hroth/Code2/nvflare/flhub/examples/flhub/nvflare_flhub/lib/python3.8/site-packages/pip/_vendor/pyparsing/__init__.py\", line 138, in <module>\n",
      "    from .common import _builtin_exprs as common_builtin_exprs\n",
      "  File \"/home/hroth/Code2/nvflare/flhub/examples/flhub/nvflare_flhub/lib/python3.8/site-packages/pip/_vendor/pyparsing/common.py\", line 5, in <module>\n",
      "    from .helpers import any_close_tag, any_open_tag, delimited_list\n",
      "  File \"/home/hroth/Code2/nvflare/flhub/examples/flhub/nvflare_flhub/lib/python3.8/site-packages/pip/_vendor/pyparsing/helpers.py\", line 6, in <module>\n",
      "    from . import __diag__\n",
      "ImportError: cannot import name '__diag__' from partially initialized module 'pip._vendor.pyparsing' (most likely due to a circular import) (/home/hroth/Code2/nvflare/flhub/examples/flhub/nvflare_flhub/lib/python3.8/site-packages/pip/_vendor/pyparsing/__init__.py)\n",
      "Traceback (most recent call last):\n",
      "  File \"/home/hroth/Code2/nvflare/flhub/examples/flhub/nvflare_flhub/bin/pip\", line 5, in <module>\n",
      "    from pip._internal.cli.main import main\n",
      "  File \"/home/hroth/Code2/nvflare/flhub/examples/flhub/nvflare_flhub/lib/python3.8/site-packages/pip/_internal/cli/main.py\", line 9, in <module>\n",
      "    from pip._internal.cli.autocompletion import autocomplete\n",
      "  File \"/home/hroth/Code2/nvflare/flhub/examples/flhub/nvflare_flhub/lib/python3.8/site-packages/pip/_internal/cli/autocompletion.py\", line 10, in <module>\n",
      "    from pip._internal.cli.main_parser import create_main_parser\n",
      "  File \"/home/hroth/Code2/nvflare/flhub/examples/flhub/nvflare_flhub/lib/python3.8/site-packages/pip/_internal/cli/main_parser.py\", line 9, in <module>\n",
      "    from pip._internal.build_env import get_runnable_pip\n",
      "  File \"/home/hroth/Code2/nvflare/flhub/examples/flhub/nvflare_flhub/lib/python3.8/site-packages/pip/_internal/build_env.py\", line 16, in <module>\n",
      "    from pip._vendor.packaging.requirements import Requirement\n",
      "  File \"/home/hroth/Code2/nvflare/flhub/examples/flhub/nvflare_flhub/lib/python3.8/site-packages/pip/_vendor/packaging/requirements.py\", line 12, in <module>\n",
      "    from pip._vendor.pyparsing import Combine\n",
      "  File \"/home/hroth/Code2/nvflare/flhub/examples/flhub/nvflare_flhub/lib/python3.8/site-packages/pip/_vendor/pyparsing/__init__.py\", line 138, in <module>\n",
      "    from .common import _builtin_exprs as common_builtin_exprs\n",
      "  File \"/home/hroth/Code2/nvflare/flhub/examples/flhub/nvflare_flhub/lib/python3.8/site-packages/pip/_vendor/pyparsing/common.py\", line 5, in <module>\n",
      "    from .helpers import any_close_tag, any_open_tag, delimited_list\n",
      "  File \"/home/hroth/Code2/nvflare/flhub/examples/flhub/nvflare_flhub/lib/python3.8/site-packages/pip/_vendor/pyparsing/helpers.py\", line 6, in <module>\n",
      "    from . import __diag__\n",
      "ImportError: cannot import name '__diag__' from partially initialized module 'pip._vendor.pyparsing' (most likely due to a circular import) (/home/hroth/Code2/nvflare/flhub/examples/flhub/nvflare_flhub/lib/python3.8/site-packages/pip/_vendor/pyparsing/__init__.py)\n"
     ]
    }
   ],
   "source": [
    "# (optional) check environment\n",
    "!python --version\n",
    "!pip freeze | grep torch\n",
    "!pip freeze | grep monai"
   ]
  },
  {
   "cell_type": "markdown",
   "id": "ce69e66c-dbbe-457c-a7a8-e0dc1e7adf59",
   "metadata": {},
   "source": [
    "### Open admin api runner"
   ]
  },
  {
   "cell_type": "code",
   "execution_count": 3,
   "id": "e33d376f-9d48-4a85-8387-fe97f0d63921",
   "metadata": {},
   "outputs": [],
   "source": [
    "import msgpack\n",
    "from nvflare.fuel.hci.client.fl_admin_api_runner import FLAdminAPIRunner, api_command_wrapper\n",
    "\n",
    "# Initialize the runner\n",
    "runner = FLAdminAPIRunner(\n",
    "    username=\"admin@nvflare.com\",\n",
    "    admin_dir=f\"{HUB_EXAMPLE}/workspaces/t1_workspace/admin@nvflare.com\",\n",
    "    poc=False,\n",
    "    debug=False,\n",
    ")"
   ]
  },
  {
   "cell_type": "markdown",
   "id": "e256c254-7aed-4498-ab23-c581aa8a67ff",
   "metadata": {},
   "source": [
    "### Submit job"
   ]
  },
  {
   "cell_type": "code",
   "execution_count": 4,
   "id": "3921e07b-093e-492b-9d35-702ed0debb28",
   "metadata": {},
   "outputs": [
    {
     "name": "stdout",
     "output_type": "stream",
     "text": [
      "{'status': <APIStatus.SUCCESS: 'SUCCESS'>, 'details': {'message': 'Submitted job: 48680ba6-0f18-4081-9c9f-eab39a84cf02', 'job_id': '48680ba6-0f18-4081-9c9f-eab39a84cf02'}, 'raw': {'time': '2022-11-08 13:46:32.119019', 'data': [{'type': 'string', 'data': 'Submitted job: 48680ba6-0f18-4081-9c9f-eab39a84cf02'}, {'type': 'success', 'data': ''}], 'status': <APIStatus.SUCCESS: 'SUCCESS'>}}\n"
     ]
    },
    {
     "data": {
      "text/plain": [
       "{'status': <APIStatus.SUCCESS: 'SUCCESS'>,\n",
       " 'details': {'message': 'Submitted job: 48680ba6-0f18-4081-9c9f-eab39a84cf02',\n",
       "  'job_id': '48680ba6-0f18-4081-9c9f-eab39a84cf02'},\n",
       " 'raw': {'time': '2022-11-08 13:46:32.119019',\n",
       "  'data': [{'type': 'string',\n",
       "    'data': 'Submitted job: 48680ba6-0f18-4081-9c9f-eab39a84cf02'},\n",
       "   {'type': 'success', 'data': ''}],\n",
       "  'status': <APIStatus.SUCCESS: 'SUCCESS'>}}"
      ]
     },
     "execution_count": 4,
     "metadata": {},
     "output_type": "execute_result"
    }
   ],
   "source": [
    "job_folder=f\"{HUB_EXAMPLE}/job\"\n",
    "api_command_wrapper(runner.api.submit_job(job_folder))"
   ]
  },
  {
   "cell_type": "markdown",
   "id": "ac99fa30-9266-4307-9693-2a32d56b4790",
   "metadata": {},
   "source": [
    "### List jobs"
   ]
  },
  {
   "cell_type": "code",
   "execution_count": 5,
   "id": "2fd2f3f6-4619-446b-baeb-b76763aff30a",
   "metadata": {},
   "outputs": [],
   "source": [
    "%%capture\n",
    "jobs = api_command_wrapper(runner.api.list_jobs())"
   ]
  },
  {
   "cell_type": "code",
   "execution_count": 6,
   "id": "6bead11a-5f97-47d8-99e1-9107e782dd72",
   "metadata": {},
   "outputs": [
    {
     "name": "stdout",
     "output_type": "stream",
     "text": [
      "---------------------------------------------------------------------------------------------------------------------------------\n",
      "| JOB ID                               | NAME          | STATUS             | SUBMIT TIME                      | RUN DURATION   |\n",
      "---------------------------------------------------------------------------------------------------------------------------------\n",
      "| f671c736-bbd1-43eb-b8d0-252eebefddc1 | spleen-bundle | FINISHED:COMPLETED | 2022-11-08T11:57:32.821531-05:00 | 0:13:55.649281 |\n",
      "| 638ab8e5-e985-4445-bb59-0591db9dce30 | spleen-bundle | FINISHED:COMPLETED | 2022-11-08T13:32:17.142564-05:00 | 0:04:54.296576 |\n",
      "| 48680ba6-0f18-4081-9c9f-eab39a84cf02 | spleen-bundle | SUBMITTED          | 2022-11-08T13:46:32.131564-05:00 | N/A            |\n",
      "---------------------------------------------------------------------------------------------------------------------------------\n",
      "\n"
     ]
    }
   ],
   "source": [
    "print(jobs[\"raw\"][\"data\"][0][\"data\"])"
   ]
  },
  {
   "cell_type": "markdown",
   "id": "9f8e793e-ca35-41f2-8ab9-5f4ec67510b6",
   "metadata": {
    "tags": []
   },
   "source": [
    "### Show server log"
   ]
  },
  {
   "cell_type": "code",
   "execution_count": 7,
   "id": "de19c140-bc0d-47ca-ace7-5004f0267e8c",
   "metadata": {},
   "outputs": [],
   "source": [
    "%%capture\n",
    "reply = api_command_wrapper(runner.api.tail_target_log(\"server\"))"
   ]
  },
  {
   "cell_type": "code",
   "execution_count": 8,
   "id": "c3582d15-04f4-456f-9523-c87b3e9c747c",
   "metadata": {
    "tags": []
   },
   "outputs": [
    {
     "name": "stdout",
     "output_type": "stream",
     "text": [
      "2022-11-08 13:36:03,027 - FederatedServer - INFO - GetTask: Return task: train to client: t1_client_b (8beab16a-8006-4118-8e9b-dc6f6b3068b5) \n",
      "2022-11-08 13:36:03,479 - FederatedServer - INFO - GetTask: Return task: train to client: t1_client_a (47d5e875-a6da-41ca-adc7-b9384a07f1d5) \n",
      "2022-11-08 13:36:25,417 - FederatedServer - INFO - received update from t1_project_t1_client_a_0 (19278374 Bytes, 1667932585 seconds)\n",
      "2022-11-08 13:36:25,810 - FederatedServer - INFO - received update from t1_project_t1_client_b_0 (19278434 Bytes, 1667932585 seconds)\n",
      "2022-11-08 13:36:27,975 - FederatedServer - INFO - GetTask: Return task: train to client: t1_client_a (47d5e875-a6da-41ca-adc7-b9384a07f1d5) \n",
      "2022-11-08 13:36:28,436 - FederatedServer - INFO - GetTask: Return task: train to client: t1_client_b (8beab16a-8006-4118-8e9b-dc6f6b3068b5) \n",
      "2022-11-08 13:36:59,441 - FederatedServer - INFO - received update from t1_project_t1_client_b_0 (19278434 Bytes, 1667932619 seconds)\n",
      "2022-11-08 13:36:59,630 - FederatedServer - INFO - received update from t1_project_t1_client_a_0 (19278374 Bytes, 1667932619 seconds)\n",
      "2022-11-08 13:37:01,637 - FederatedServer - INFO - GetTask: Return task: __end_run__ to client: t1_client_b (8beab16a-8006-4118-8e9b-dc6f6b3068b5) \n",
      "2022-11-08 13:37:01,833 - FederatedServer - INFO - GetTask: Return task: __end_run__ to client: t1_client_a (47d5e875-a6da-41ca-adc7-b9384a07f1d5) \n"
     ]
    }
   ],
   "source": [
    "print(reply[\"details\"][\"message\"])"
   ]
  },
  {
   "cell_type": "markdown",
   "id": "634f3dd0-b583-4805-a709-4e6e5fc999e7",
   "metadata": {
    "tags": []
   },
   "source": [
    "### Show Connector-A log"
   ]
  },
  {
   "cell_type": "code",
   "execution_count": 9,
   "id": "21088785-8695-4e74-a7d4-6a5e7d6b8a96",
   "metadata": {},
   "outputs": [],
   "source": [
    "%%capture\n",
    "reply = api_command_wrapper(runner.api.tail_target_log(\"t1_client_a\"))"
   ]
  },
  {
   "cell_type": "code",
   "execution_count": 10,
   "id": "f35e993e-7e27-4417-b138-1d8146d10eac",
   "metadata": {
    "tags": []
   },
   "outputs": [
    {
     "name": "stdout",
     "output_type": "stream",
     "text": [
      "2022-11-08 11:56:55,846 - FederatedClient - INFO - Got the new primary SP: localhost:8002\n",
      "2022-11-08 11:56:57,204 - FederatedClient - INFO - Successfully registered client:t1_client_a for project t1_project. Token:47d5e875-a6da-41ca-adc7-b9384a07f1d5 SSID:ebc6125d-0a56-4688-9b08-355fe9e4d61a\n",
      "2022-11-08 11:57:47,916 - ClientEngine - INFO - Starting client app. rank: 0\n",
      "2022-11-08 11:57:47,936 - ProcessExecutor - INFO - Worker child process ID: 2603362\n",
      "2022-11-08 11:57:49,943 - ProcessExecutor - INFO - run (f671c736-bbd1-43eb-b8d0-252eebefddc1): waiting for child worker process to finish.\n",
      "2022-11-08 12:11:45,862 - ProcessExecutor - INFO - run (f671c736-bbd1-43eb-b8d0-252eebefddc1): child worker process finished with execution code: 0\n",
      "2022-11-08 13:32:19,306 - ClientEngine - INFO - Starting client app. rank: 0\n",
      "2022-11-08 13:32:19,326 - ProcessExecutor - INFO - Worker child process ID: 2717346\n",
      "2022-11-08 13:32:21,332 - ProcessExecutor - INFO - run (638ab8e5-e985-4445-bb59-0591db9dce30): waiting for child worker process to finish.\n",
      "2022-11-08 13:37:15,819 - ProcessExecutor - INFO - run (638ab8e5-e985-4445-bb59-0591db9dce30): child worker process finished with execution code: 0\n"
     ]
    }
   ],
   "source": [
    "print(reply[\"details\"][\"message\"])"
   ]
  },
  {
   "cell_type": "markdown",
   "id": "6ab641db-f58d-4518-8839-6158f87262cb",
   "metadata": {
    "tags": []
   },
   "source": [
    "### Show Connector-B log"
   ]
  },
  {
   "cell_type": "code",
   "execution_count": 11,
   "id": "23d68fd1-72ad-4114-ad27-68b333b00c23",
   "metadata": {},
   "outputs": [],
   "source": [
    "%%capture\n",
    "reply = api_command_wrapper(runner.api.tail_target_log(\"t1_client_b\"))"
   ]
  },
  {
   "cell_type": "code",
   "execution_count": 12,
   "id": "c2d49cde-4649-4677-b703-8cf57f36d2e4",
   "metadata": {
    "tags": []
   },
   "outputs": [
    {
     "name": "stdout",
     "output_type": "stream",
     "text": [
      "2022-11-08 11:56:55,860 - FederatedClient - INFO - Got the new primary SP: localhost:8002\n",
      "2022-11-08 11:56:57,203 - FederatedClient - INFO - Successfully registered client:t1_client_b for project t1_project. Token:8beab16a-8006-4118-8e9b-dc6f6b3068b5 SSID:ebc6125d-0a56-4688-9b08-355fe9e4d61a\n",
      "2022-11-08 11:57:47,917 - ClientEngine - INFO - Starting client app. rank: 0\n",
      "2022-11-08 11:57:47,936 - ProcessExecutor - INFO - Worker child process ID: 2603369\n",
      "2022-11-08 11:57:49,943 - ProcessExecutor - INFO - run (f671c736-bbd1-43eb-b8d0-252eebefddc1): waiting for child worker process to finish.\n",
      "2022-11-08 12:11:45,958 - ProcessExecutor - INFO - run (f671c736-bbd1-43eb-b8d0-252eebefddc1): child worker process finished with execution code: 0\n",
      "2022-11-08 13:32:19,311 - ClientEngine - INFO - Starting client app. rank: 0\n",
      "2022-11-08 13:32:19,331 - ProcessExecutor - INFO - Worker child process ID: 2717353\n",
      "2022-11-08 13:32:21,337 - ProcessExecutor - INFO - run (638ab8e5-e985-4445-bb59-0591db9dce30): waiting for child worker process to finish.\n",
      "2022-11-08 13:37:15,773 - ProcessExecutor - INFO - run (638ab8e5-e985-4445-bb59-0591db9dce30): child worker process finished with execution code: 0\n"
     ]
    }
   ],
   "source": [
    "print(reply[\"details\"][\"message\"])"
   ]
  },
  {
   "cell_type": "markdown",
   "id": "178d79bf-9c00-41e6-a1e4-6efae1e7e905",
   "metadata": {},
   "source": [
    "### Finish"
   ]
  },
  {
   "cell_type": "code",
   "execution_count": 13,
   "id": "e7d1e526-d4bc-43a0-bc7e-8ba80bdaa42e",
   "metadata": {},
   "outputs": [
    {
     "data": {
      "text/plain": [
       "{'status': <APIStatus.ERROR_INACTIVE_SESSION: 'ERROR_INACTIVE_SESSION'>,\n",
       " 'details': 'session is logging out'}"
      ]
     },
     "execution_count": 13,
     "metadata": {},
     "output_type": "execute_result"
    }
   ],
   "source": [
    "runner.api.logout()"
   ]
  },
  {
   "cell_type": "markdown",
   "id": "5d73a35d-8ddf-4163-8843-6b68a1909a43",
   "metadata": {},
   "source": [
    "# Show TensorBoard"
   ]
  },
  {
   "cell_type": "code",
   "execution_count": 14,
   "id": "973dce2f-9da3-46b2-a225-30591bb104e4",
   "metadata": {},
   "outputs": [
    {
     "data": {
      "text/html": [
       "\n",
       "      <iframe id=\"tensorboard-frame-75c56928345674df\" width=\"100%\" height=\"800\" frameborder=\"0\">\n",
       "      </iframe>\n",
       "      <script>\n",
       "        (function() {\n",
       "          const frame = document.getElementById(\"tensorboard-frame-75c56928345674df\");\n",
       "          const url = new URL(\"/\", window.location);\n",
       "          const port = 6006;\n",
       "          if (port) {\n",
       "            url.port = port;\n",
       "          }\n",
       "          frame.src = url;\n",
       "        })();\n",
       "      </script>\n",
       "    "
      ],
      "text/plain": [
       "<IPython.core.display.HTML object>"
      ]
     },
     "metadata": {},
     "output_type": "display_data"
    }
   ],
   "source": [
    "# load only the hub server workspace\n",
    "%load_ext tensorboard\n",
    "%tensorboard --logdir \"/home/hroth/Code2/nvflare/flhub/examples/flhub/workspaces/t1_workspace/localhost\""
   ]
  },
  {
   "cell_type": "markdown",
   "id": "ef40053a-1f96-457c-8f9f-fce8073fe1a3",
   "metadata": {},
   "source": [
    "Note. The tensorboard should also be available at [http://localhost:6006](http://localhost:6006)."
   ]
  },
  {
   "cell_type": "code",
   "execution_count": null,
   "id": "e25120a8-271e-4c8a-8d3d-e83c62e18286",
   "metadata": {},
   "outputs": [],
   "source": []
  }
 ],
 "metadata": {
  "kernelspec": {
   "display_name": "Python 3.8 (ipykernel)",
   "language": "python",
   "name": "python3.8"
  },
  "language_info": {
   "codemirror_mode": {
    "name": "ipython",
    "version": 3
   },
   "file_extension": ".py",
   "mimetype": "text/x-python",
   "name": "python",
   "nbconvert_exporter": "python",
   "pygments_lexer": "ipython3",
   "version": "3.8.15"
  }
 },
 "nbformat": 4,
 "nbformat_minor": 5
}
