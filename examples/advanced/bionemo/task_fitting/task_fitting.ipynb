{
 "cells": [
  {
   "cell_type": "markdown",
   "id": "39107648",
   "metadata": {},
   "source": [
    "# Federated Protein Embeddings and Task Model Fitting with BioNeMo\n",
    "\n",
    "This example notebook shows how to obtain protein learned representations in the form of embeddings using the ESM-1nv pre-trained model. The model is trained with NVIDIA's BioNeMo framework for Large Language Model training and inference. For more details, please visit NVIDIA BioNeMo Service at https://www.nvidia.com/en-us/gpu-cloud/bionemo.\n",
    "\n",
    "This notebook will walk you through the task fitting workflow in the following sections:\n",
    "\n",
    "* \n",
    "*\n",
    "*"
   ]
  },
  {
   "cell_type": "markdown",
   "id": "7404e5af",
   "metadata": {},
   "source": [
    "### Install requirements\n",
    "Let's start by installing and importing library dependencies. We'll use requests to interact with the BioNeMo service, BioPython to parse FASTA sequences into SeqRecord objects, scikit-learn for classification tasks, and matplotlib for visualization."
   ]
  },
  {
   "cell_type": "code",
   "execution_count": 30,
   "id": "7e560b9d",
   "metadata": {},
   "outputs": [
    {
     "name": "stdout",
     "output_type": "stream",
     "text": [
      "Looking in indexes: https://pypi.org/simple, https://pypi.ngc.nvidia.com\n",
      "Requirement already satisfied: nvflare in /usr/local/lib/python3.8/dist-packages (from -r requirements.txt (line 1)) (2.3.1)\n",
      "Collecting biopython\n",
      "  Downloading biopython-1.81-cp38-cp38-manylinux_2_17_x86_64.manylinux2014_x86_64.whl (3.1 MB)\n",
      "\u001b[K     |████████████████████████████████| 3.1 MB 2.8 MB/s eta 0:00:01\n",
      "\u001b[?25hRequirement already satisfied: scikit-learn in /usr/local/lib/python3.8/dist-packages (from -r requirements.txt (line 3)) (1.2.0)\n",
      "Requirement already satisfied: matplotlib in /usr/local/lib/python3.8/dist-packages (from -r requirements.txt (line 4)) (3.4.3)\n",
      "Requirement already satisfied: cryptography>=36.0.0 in /usr/local/lib/python3.8/dist-packages (from nvflare->-r requirements.txt (line 1)) (41.0.2)\n",
      "Requirement already satisfied: SQLAlchemy==1.4.31 in /usr/local/lib/python3.8/dist-packages (from nvflare->-r requirements.txt (line 1)) (1.4.31)\n",
      "Requirement already satisfied: psutil>=5.9.1 in /usr/local/lib/python3.8/dist-packages (from nvflare->-r requirements.txt (line 1)) (5.9.4)\n",
      "Requirement already satisfied: Flask==2.2.5 in /usr/local/lib/python3.8/dist-packages (from nvflare->-r requirements.txt (line 1)) (2.2.5)\n",
      "Requirement already satisfied: protobuf==3.20.3 in /usr/local/lib/python3.8/dist-packages (from nvflare->-r requirements.txt (line 1)) (3.20.3)\n",
      "Requirement already satisfied: Flask-JWT-Extended==4.4.3 in /usr/local/lib/python3.8/dist-packages (from nvflare->-r requirements.txt (line 1)) (4.4.3)\n",
      "Requirement already satisfied: grpcio==1.51.1 in /usr/local/lib/python3.8/dist-packages (from nvflare->-r requirements.txt (line 1)) (1.51.1)\n",
      "Requirement already satisfied: numpy in /usr/local/lib/python3.8/dist-packages (from nvflare->-r requirements.txt (line 1)) (1.22.2)\n",
      "Requirement already satisfied: msgpack>=1.0.3 in /usr/local/lib/python3.8/dist-packages (from nvflare->-r requirements.txt (line 1)) (1.0.4)\n",
      "Requirement already satisfied: PyYAML>=6.0 in /usr/local/lib/python3.8/dist-packages (from nvflare->-r requirements.txt (line 1)) (6.0.1)\n",
      "Requirement already satisfied: gunicorn>=20.1.0 in /usr/local/lib/python3.8/dist-packages (from nvflare->-r requirements.txt (line 1)) (21.2.0)\n",
      "Requirement already satisfied: six>=1.15.0 in /usr/local/lib/python3.8/dist-packages (from nvflare->-r requirements.txt (line 1)) (1.16.0)\n",
      "Requirement already satisfied: Flask-SQLAlchemy==2.5.1 in /usr/local/lib/python3.8/dist-packages (from nvflare->-r requirements.txt (line 1)) (2.5.1)\n",
      "Requirement already satisfied: requests>=2.28.0 in /usr/local/lib/python3.8/dist-packages (from nvflare->-r requirements.txt (line 1)) (2.28.2)\n",
      "Requirement already satisfied: docker>=6.0 in /usr/local/lib/python3.8/dist-packages (from nvflare->-r requirements.txt (line 1)) (6.1.3)\n",
      "Requirement already satisfied: websockets>=10.4 in /usr/local/lib/python3.8/dist-packages (from nvflare->-r requirements.txt (line 1)) (11.0.3)\n",
      "Requirement already satisfied: itsdangerous>=2.0 in /usr/local/lib/python3.8/dist-packages (from Flask==2.2.5->nvflare->-r requirements.txt (line 1)) (2.1.2)\n",
      "Requirement already satisfied: importlib-metadata>=3.6.0 in /usr/local/lib/python3.8/dist-packages (from Flask==2.2.5->nvflare->-r requirements.txt (line 1)) (6.0.0)\n",
      "Requirement already satisfied: Werkzeug>=2.2.2 in /usr/local/lib/python3.8/dist-packages (from Flask==2.2.5->nvflare->-r requirements.txt (line 1)) (2.3.4)\n",
      "Requirement already satisfied: Jinja2>=3.0 in /usr/local/lib/python3.8/dist-packages (from Flask==2.2.5->nvflare->-r requirements.txt (line 1)) (3.1.2)\n",
      "Requirement already satisfied: click>=8.0 in /usr/local/lib/python3.8/dist-packages (from Flask==2.2.5->nvflare->-r requirements.txt (line 1)) (8.0.2)\n",
      "Requirement already satisfied: PyJWT<3.0,>=2.0 in /usr/local/lib/python3.8/dist-packages (from Flask-JWT-Extended==4.4.3->nvflare->-r requirements.txt (line 1)) (2.8.0)\n",
      "Requirement already satisfied: greenlet!=0.4.17 in /usr/local/lib/python3.8/dist-packages (from SQLAlchemy==1.4.31->nvflare->-r requirements.txt (line 1)) (1.1.1)\n",
      "Requirement already satisfied: threadpoolctl>=2.0.0 in /usr/local/lib/python3.8/dist-packages (from scikit-learn->-r requirements.txt (line 3)) (3.1.0)\n",
      "Requirement already satisfied: joblib>=1.1.1 in /usr/local/lib/python3.8/dist-packages (from scikit-learn->-r requirements.txt (line 3)) (1.2.0)\n",
      "Requirement already satisfied: scipy>=1.3.2 in /usr/local/lib/python3.8/dist-packages (from scikit-learn->-r requirements.txt (line 3)) (1.6.3)\n",
      "Requirement already satisfied: python-dateutil>=2.7 in /usr/local/lib/python3.8/dist-packages (from matplotlib->-r requirements.txt (line 4)) (2.8.2)\n",
      "Requirement already satisfied: cycler>=0.10 in /usr/local/lib/python3.8/dist-packages (from matplotlib->-r requirements.txt (line 4)) (0.10.0)\n",
      "Requirement already satisfied: pillow>=6.2.0 in /usr/local/lib/python3.8/dist-packages (from matplotlib->-r requirements.txt (line 4)) (9.3.0)\n",
      "Requirement already satisfied: kiwisolver>=1.0.1 in /usr/local/lib/python3.8/dist-packages (from matplotlib->-r requirements.txt (line 4)) (1.3.1)\n",
      "Requirement already satisfied: pyparsing>=2.2.1 in /usr/local/lib/python3.8/dist-packages (from matplotlib->-r requirements.txt (line 4)) (3.0.9)\n",
      "Requirement already satisfied: cffi>=1.12 in /usr/local/lib/python3.8/dist-packages (from cryptography>=36.0.0->nvflare->-r requirements.txt (line 1)) (1.15.1)\n",
      "Requirement already satisfied: pycparser in /usr/local/lib/python3.8/dist-packages (from cffi>=1.12->cryptography>=36.0.0->nvflare->-r requirements.txt (line 1)) (2.21)\n",
      "Requirement already satisfied: websocket-client>=0.32.0 in /usr/local/lib/python3.8/dist-packages (from docker>=6.0->nvflare->-r requirements.txt (line 1)) (1.6.1)\n",
      "Requirement already satisfied: packaging>=14.0 in /usr/local/lib/python3.8/dist-packages (from docker>=6.0->nvflare->-r requirements.txt (line 1)) (23.0)\n",
      "Requirement already satisfied: urllib3>=1.26.0 in /usr/local/lib/python3.8/dist-packages (from docker>=6.0->nvflare->-r requirements.txt (line 1)) (1.26.14)\n",
      "Requirement already satisfied: zipp>=0.5 in /usr/local/lib/python3.8/dist-packages (from importlib-metadata>=3.6.0->Flask==2.2.5->nvflare->-r requirements.txt (line 1)) (3.14.0)\n",
      "Requirement already satisfied: MarkupSafe>=2.0 in /usr/local/lib/python3.8/dist-packages (from Jinja2>=3.0->Flask==2.2.5->nvflare->-r requirements.txt (line 1)) (2.1.2)\n",
      "Requirement already satisfied: idna<4,>=2.5 in /usr/local/lib/python3.8/dist-packages (from requests>=2.28.0->nvflare->-r requirements.txt (line 1)) (3.4)\n",
      "Requirement already satisfied: charset-normalizer<4,>=2 in /usr/local/lib/python3.8/dist-packages (from requests>=2.28.0->nvflare->-r requirements.txt (line 1)) (3.1.0)\n",
      "Requirement already satisfied: certifi>=2017.4.17 in /usr/local/lib/python3.8/dist-packages (from requests>=2.28.0->nvflare->-r requirements.txt (line 1)) (2022.12.7)\n",
      "Installing collected packages: biopython\n",
      "Successfully installed biopython-1.81\n",
      "\u001b[33mWARNING: Running pip as the 'root' user can result in broken permissions and conflicting behaviour with the system package manager. It is recommended to use a virtual environment instead: https://pip.pypa.io/warnings/venv\u001b[0m\n",
      "\u001b[33mWARNING: You are using pip version 21.2.4; however, version 23.2.1 is available.\n",
      "You should consider upgrading via the '/usr/bin/python -m pip install --upgrade pip' command.\u001b[0m\n"
     ]
    }
   ],
   "source": [
    "!pip install -r requirements.txt"
   ]
  },
  {
   "cell_type": "markdown",
   "id": "dd91b8d7",
   "metadata": {},
   "source": [
    "### Obtaining the protein embeddings using the BioNeMo ESM-1nv model\n",
    "Using BioNeMo, users can obtain numerical vector representations of protein sequences called embeddings. Protein embeddings can then be used for visualization or making downstream predictions.\n",
    "\n",
    "Here we are interested in training a neural network to predict subcellular location from an embedding.\n",
    "\n",
    "The data we will be using comes from the paper [Light attention predicts protein location from the language of life](https://academic.oup.com/bioinformaticsadvances/article/1/1/vbab035/6432029) by Stärk et al. In this paper, the authors developed a machine learning algorithm to predict the subcellular location of proteins from sequence through protein langage models that are similar to those hosted by BioNeMo. Protein subcellular location refers to where the protein localizes in the cell, for example a protein my be expressed in the Nucleus or in the Cytoplasm. Knowing where proteins localize can provide insights into the underlying mechanisms of cellular processes and help identify potential targets for drug development. The following image includes a few examples of subcellular locations in an animal cell:\n",
    "\n",
    "\n",
    "(Image freely available at https://pixabay.com/images/id-48542)\n",
    "\n",
    "### Dataset sourcing\n",
    "For our target input sequences, we will point to FASTA sequences in a benchmark dataset called Fitness Landscape Inference for Proteins (FLIP). FLIP encompasses experimental data across adeno-associated virus stability for gene therapy, protein domain B1 stability and immunoglobulin binding, and thermostability from multiple protein families."
   ]
  },
  {
   "cell_type": "code",
   "execution_count": 31,
   "id": "99bd57a3",
   "metadata": {},
   "outputs": [],
   "source": [
    "# Example protein dataset location\n",
    "fasta_url= \"http://data.bioembeddings.com/public/FLIP/fasta/scl/mixed_soft.fasta\""
   ]
  },
  {
   "cell_type": "markdown",
   "id": "6ac0c962",
   "metadata": {},
   "source": [
    "First, we define the source of example protein dataset with the FASTA sequences. This data follows the [biotrainer](https://github.com/sacdallago/biotrainer/blob/main/docs/data_standardization.md) standard, so it includes information about the class in the FASTA header, and the protein sequence. Here are two example sequences in this file:\n",
    "\n",
    "```\n",
    ">Sequence1 TARGET=Cell_membrane SET=train VALIDATION=False\n",
    "MMKTLSSGNCTLNVPAKNSYRMVVLGASRVGKSSIVSRFLNGRFEDQYTPTIEDFHRKVYNIHGDMYQLDILDTSGNHPFPAM\n",
    "RRLSILTGDVFILVFSLDSRESFDEVKRLQKQILEVKSCLKNKTKEAAELPMVICGNKNDHSELCRQVPAMEAELLVSGDENC\n",
    "AYFEVSAKKNTNVNEMFYVLFSMAKLPHEMSPALHHKISVQYGDAFHPRPFCMRRTKVAGAYGMVSPFARRPSVNSDLKYIKA\n",
    "KVLREGQARERDKCSIQ\n",
    ">Sequence4833 TARGET=Nucleus SET=train VALIDATION=False\n",
    "MARTKQTARKSTGGKAPRKQLATKAARKSAPATGGVKKPHRFRPGTVALREIRKYQKSTELLIRKLPFQRLVREIAQDFKTDL\n",
    "RFQSSAVAALQEAAEAYLVGLFEDTNLCAIHAKRVTIMPKDIQLARRIRGERA\n",
    "Note the following attributes in the FASTA header:\n",
    "```\n",
    "\n",
    "* `TARGET` attribute holds the subcellular location classification for the sequence, for instance Cell_membrane and Nucleus. This dataset includes a total of ten subcellelular location classes -- more on that below.\n",
    "* `SET` attribute defines whether the sequence should be used for training (train) or testing (test)\n",
    "* `VALIDATION` attribute defines whether the sequence should be used for validation (all sequences where this is True are also in set=train)\n",
    "\n",
    "### Downloading the protein sequences and subcellular location annotations\n",
    "In this step we download the FASTA file defined above and parse the sequences into a list of BioPython SeqRecord objects.\n",
    "\n"
   ]
  },
  {
   "cell_type": "code",
   "execution_count": 32,
   "id": "f361fc67",
   "metadata": {},
   "outputs": [
    {
     "name": "stdout",
     "output_type": "stream",
     "text": [
      "Downloaded 13949 sequences\n"
     ]
    }
   ],
   "source": [
    "import io\n",
    "import requests\n",
    "from Bio import SeqIO\n",
    "\n",
    "# Download the FASTA file from FLIP: https://github.com/J-SNACKKB/FLIP/tree/main/splits/scl\n",
    "fasta_content = requests.get(fasta_url, headers={\n",
    "    'User-Agent': 'Mozilla/5.0 (Windows NT 6.1; Win64; x86)'\n",
    "}).content.decode('utf-8')\n",
    "fasta_stream = io.StringIO(fasta_content)\n",
    "\n",
    "# Obtain a list of SeqRecords/proteins which contain sequence and attributes\n",
    "# from the FASTA header\n",
    "proteins = list(SeqIO.parse(fasta_stream, \"fasta\"))\n",
    "print(f\"Downloaded {len(proteins)} sequences\")"
   ]
  },
  {
   "cell_type": "markdown",
   "id": "ec508e94",
   "metadata": {},
   "source": [
    "### Data splitting"
   ]
  },
  {
   "cell_type": "markdown",
   "id": "6a45d4a2",
   "metadata": {},
   "source": [
    "### Federated embedding extraction"
   ]
  },
  {
   "cell_type": "code",
   "execution_count": 33,
   "id": "2afe3115",
   "metadata": {},
   "outputs": [
    {
     "name": "stdout",
     "output_type": "stream",
     "text": [
      "2023-07-27 14:34:04,812 - SimulatorRunner - INFO - Create the Simulator Server.\n",
      "2023-07-27 14:34:04,816 - Cell - INFO - server: creating listener on tcp://0:45873\n",
      "2023-07-27 14:34:04,836 - Cell - INFO - server: created backbone external listener for tcp://0:45873\n",
      "2023-07-27 14:34:04,837 - ConnectorManager - INFO - 13771: Try start_listener Listener resources: {'secure': False, 'host': 'localhost'}\n",
      "2023-07-27 14:34:04,841 - nvflare.fuel.f3.sfm.conn_manager - INFO - Connector [CH00002 PASSIVE tcp://0:19449] is starting\n",
      "2023-07-27 14:34:05,345 - Cell - INFO - server: created backbone internal listener for tcp://localhost:19449\n",
      "2023-07-27 14:34:05,348 - nvflare.fuel.f3.sfm.conn_manager - INFO - Connector [CH00001 PASSIVE tcp://0:45873] is starting\n",
      "2023-07-27 14:34:05,437 - nvflare.fuel.hci.server.hci - INFO - Starting Admin Server localhost on Port 40065\n",
      "2023-07-27 14:34:05,438 - SimulatorRunner - INFO - Deploy the Apps.\n",
      "2023-07-27 14:34:05,946 - SimulatorRunner - INFO - Create the simulate clients.\n",
      "2023-07-27 14:34:05,951 - ClientManager - INFO - Client: New client site-1@192.168.0.25 joined. Sent token: c7f8fac8-3c05-498f-98dd-1dfb47dfcf2c.  Total clients: 1\n",
      "2023-07-27 14:34:05,954 - FederatedClient - INFO - Successfully registered client:site-1 for project simulator_server. Token:c7f8fac8-3c05-498f-98dd-1dfb47dfcf2c SSID:\n",
      "2023-07-27 14:34:05,958 - SimulatorRunner - INFO - Set the client status ready.\n",
      "2023-07-27 14:34:05,960 - SimulatorRunner - INFO - Deploy and start the Server App.\n",
      "2023-07-27 14:34:05,963 - ServerCommandAgent - INFO - ServerCommandAgent cell register_request_cb: server.simulate_job\n",
      "2023-07-27 14:34:08,007 - ServerRunner - INFO - [identity=simulator_server, run=simulate_job]: Server runner starting ...\n",
      "2023-07-27 14:34:08,010 - ServerRunner - INFO - [identity=simulator_server, run=simulate_job]: starting workflow bionemo_inference (<class 'bionemo_inference.BioNeMoInference'>) ...\n",
      "2023-07-27 14:34:08,012 - BioNeMoInference - INFO - [identity=simulator_server, run=simulate_job]: Initializing BroadcastAndProcess.\n",
      "2023-07-27 14:34:08,015 - ServerRunner - INFO - [identity=simulator_server, run=simulate_job]: Workflow bionemo_inference (<class 'bionemo_inference.BioNeMoInference'>) started\n",
      "2023-07-27 14:34:08,056 - BioNeMoInferenceProcessor - INFO - [identity=simulator_server, run=simulate_job, wf=bionemo_inference]: Load model configuration from /tmp/nvflare/bionemo/embeddings/simulate_job/app_server/config/base_infer_config.yaml and /tmp/nvflare/bionemo/embeddings/simulate_job/app_server/config/infer.yaml\n",
      "2023-07-27 14:34:08,058 - BioNeMoInference - INFO - [identity=simulator_server, run=simulate_job, wf=bionemo_inference]: scheduled task bionemo_inference\n",
      "2023-07-27 14:34:08,972 - SimulatorClientRunner - INFO - Start the clients run simulation.\n",
      "2023-07-27 14:34:09,976 - SimulatorClientRunner - INFO - Simulate Run client: site-1\n",
      "2023-07-27 14:34:11,036 - ClientTaskWorker - INFO - ClientTaskWorker started to run\n",
      "2023-07-27 14:34:11,117 - Cell - INFO - site-1.simulate_job: created backbone external connector to tcp://localhost:45873\n",
      "2023-07-27 14:34:11,117 - nvflare.fuel.f3.sfm.conn_manager - INFO - Connector [CH00001 ACTIVE tcp://localhost:45873] is starting\n",
      "2023-07-27 14:34:14,708 - torch.distributed.nn.jit.instantiator - INFO - Created a temporary directory at /tmp/tmpy_wfep9p\n",
      "2023-07-27 14:34:14,708 - torch.distributed.nn.jit.instantiator - INFO - Writing /tmp/tmpy_wfep9p/_remote_module_non_scriptable.py\n"
     ]
    },
    {
     "name": "stderr",
     "output_type": "stream",
     "text": [
      "[NeMo W 2023-07-27 14:34:20 experimental:27] Module <class 'nemo.collections.nlp.models.text_normalization_as_tagging.thutmose_tagger.ThutmoseTaggerModel'> is experimental, not ready for production and is not fully supported. Use at your own risk.\n",
      "[NeMo W 2023-07-27 14:34:21 experimental:27] Module <class 'nemo.collections.asr.modules.audio_modules.SpectrogramToMultichannelFeatures'> is experimental, not ready for production and is not fully supported. Use at your own risk.\n"
     ]
    },
    {
     "name": "stdout",
     "output_type": "stream",
     "text": [
      "2023-07-27 14:34:21,806 - ServerRunner - INFO - [identity=simulator_server, run=simulate_job, wf=bionemo_inference, peer=site-1, peer_run=simulate_job, task_name=bionemo_inference, task_id=50372bf6-14c4-4e13-898d-9c924f43dbfd]: assigned task to client site-1: name=bionemo_inference, id=50372bf6-14c4-4e13-898d-9c924f43dbfd\n",
      "2023-07-27 14:34:21,809 - ServerRunner - INFO - [identity=simulator_server, run=simulate_job, wf=bionemo_inference, peer=site-1, peer_run=simulate_job, task_name=bionemo_inference, task_id=50372bf6-14c4-4e13-898d-9c924f43dbfd]: sent task assignment to client. client_name:site-1 task_id:50372bf6-14c4-4e13-898d-9c924f43dbfd\n",
      "2023-07-27 14:34:21,812 - GetTaskCommand - INFO - return task to client.  client_name: site-1  task_name: bionemo_inference   task_id: 50372bf6-14c4-4e13-898d-9c924f43dbfd  sharable_header_task_id: 50372bf6-14c4-4e13-898d-9c924f43dbfd\n",
      "[NeMo I 2023-07-27 14:34:21 utils:250] Restoring model from /tmp/nvflare/bionemo/embeddings/simulate_job/app_site-1/models/esm1nv.nemo\n",
      "[NeMo I 2023-07-27 14:34:21 utils:254] Loading model class: bionemo.model.protein.esm1nv.esm1nv_model.ESM1nvModel\n",
      "2023-07-27 14:34:21,926 - pytorch_lightning.utilities.rank_zero - INFO - GPU available: True (cuda), used: True\n",
      "2023-07-27 14:34:21,927 - pytorch_lightning.utilities.rank_zero - INFO - TPU available: False, using: 0 TPU cores\n",
      "2023-07-27 14:34:21,927 - pytorch_lightning.utilities.rank_zero - INFO - IPU available: False, using: 0 IPUs\n",
      "2023-07-27 14:34:21,927 - pytorch_lightning.utilities.rank_zero - INFO - HPU available: False, using: 0 HPUs\n",
      "[NeMo I 2023-07-27 14:34:21 exp_manager:374] Experiments will be logged at /tmp/nvflare/bionemo/embeddings/simulate_job/app_site-1/nemo_experiments/ESM1nv_Inference/2023-07-27_14-34-21\n",
      "[NeMo I 2023-07-27 14:34:21 exp_manager:797] TensorboardLogger has been set up\n",
      "[NeMo I 2023-07-27 14:34:21 utils:234] \n",
      "    \n",
      "    ************** Trainer configuration ***********\n",
      "[NeMo I 2023-07-27 14:34:22 utils:235] \n",
      "    name: ESM1nv_Inference\n",
      "    desc: Minimum configuration for initializing a ESM1nv model for inference.\n",
      "    trainer:\n",
      "      precision: 16\n",
      "      devices: 1\n",
      "      num_nodes: 1\n",
      "      accelerator: gpu\n",
      "      logger: null\n",
      "      accumulate_grad_batches: 1\n",
      "    exp_manager:\n",
      "      explicit_log_dir: null\n",
      "      exp_dir: null\n",
      "      name: ${name}\n",
      "      create_checkpoint_callback: false\n",
      "    model:\n",
      "      micro_batch_size: 370\n",
      "      tensor_model_parallel_size: 1\n",
      "      pipeline_model_parallel_size: 1\n",
      "      seq_length: 512\n",
      "      max_position_embeddings: 512\n",
      "      num_layers: 6\n",
      "      hidden_size: 768\n",
      "      ffn_hidden_size: 3072\n",
      "      num_attention_heads: 12\n",
      "      init_method_std: 0.02\n",
      "      hidden_dropout: 0.1\n",
      "      kv_channels: null\n",
      "      apply_query_key_layer_scaling: true\n",
      "      layernorm_epsilon: 1.0e-05\n",
      "      make_vocab_size_divisible_by: 128\n",
      "      pre_process: true\n",
      "      post_process: false\n",
      "      bert_binary_head: false\n",
      "      resume_from_checkpoint: null\n",
      "      masked_softmax_fusion: true\n",
      "      tokenizer:\n",
      "        library: sentencepiece\n",
      "        type: null\n",
      "        model: nemo:08a2085a60b3411fad6b6ff6bd6ae525_tokenizer_protein.sp.30.model\n",
      "        vocab_file: nemo:70960ca328a54437ba8e161f6404bc8b_tokenizer_protein.sp.30.vocab\n",
      "        merge_file: null\n",
      "        vocab_path: /tmp/nvflare/bionemo/embeddings/simulate_job/app_site-1/models/vocab/protein_sequence.vocab\n",
      "        model_path: /tmp/nvflare/bionemo/embeddings/simulate_job/app_site-1/models/vocab/protein_sequence_sentencepiece.model\n",
      "      native_amp_init_scale: 4294967296\n",
      "      native_amp_growth_interval: 1000\n",
      "      fp32_residual_connection: false\n",
      "      fp16_lm_cross_entropy: false\n",
      "      seed: 1234\n",
      "      use_cpu_initialization: false\n",
      "      onnx_safe: false\n",
      "      activations_checkpoint_method: null\n",
      "      activations_checkpoint_num_layers: 1\n",
      "      data:\n",
      "        dataset_path: /tmp/data/FLIP/secondary_structure/test/x000\n",
      "        dataset:\n",
      "          train: x[000..049]\n",
      "          test: x[000..049]\n",
      "          val: x[000..049]\n",
      "        newline_int: 10\n",
      "        header_lines: 1\n",
      "        data_col: 3\n",
      "        data_sep: ','\n",
      "        sort_dataset_paths: true\n",
      "        skip_lines: 0\n",
      "        micro_batch_size: 370\n",
      "        encoder_augment: false\n",
      "        encoder_mask: false\n",
      "        decoder_augment: false\n",
      "        decoder_mask: false\n",
      "        canonicalize_input: true\n",
      "        dataloader_type: single\n",
      "        drop_last: false\n",
      "        pin_memory: false\n",
      "        num_workers: 4\n",
      "        data_prefix: ''\n",
      "        index_mapping_dir: null\n",
      "        data_impl: ''\n",
      "        splits_string: 900,50,50\n",
      "        skip_warmup: true\n",
      "        reset_position_ids: false\n",
      "        reset_attention_mask: false\n",
      "        eod_mask_loss: false\n",
      "        masked_lm_prob: 0.15\n",
      "        short_seq_prob: 0.1\n",
      "        dataset_format: csv\n",
      "        seed: 1234\n",
      "        max_seq_length: 512\n",
      "        batch_size: 128\n",
      "        output_fname: ''\n",
      "        data_fields_map:\n",
      "          sequence: sequence\n",
      "          id: id\n",
      "        data_impl_kwargs:\n",
      "          csv_fields_mmap:\n",
      "            newline_int: 10\n",
      "            header_lines: 1\n",
      "            workers: null\n",
      "            sort_dataset_paths: false\n",
      "            data_sep: ','\n",
      "            data_fields:\n",
      "              id: 0\n",
      "              sequence: 1\n",
      "          fasta_fields_mmap:\n",
      "            data_fields:\n",
      "              id: 0\n",
      "              sequence: 1\n",
      "      optim:\n",
      "        name: fused_adam\n",
      "        lr: 0.0002\n",
      "        weight_decay: 0.01\n",
      "        betas:\n",
      "        - 0.9\n",
      "        - 0.98\n",
      "        sched:\n",
      "          name: CosineAnnealing\n",
      "          warmup_steps: 500\n",
      "          constant_steps: 50000\n",
      "          min_lr: 2.0e-05\n",
      "      precision: 16\n",
      "      downstream_task:\n",
      "        restore_from_path: /tmp/nvflare/bionemo/embeddings/simulate_job/app_site-1/models/esm1nv.nemo\n",
      "        outputs:\n",
      "        - embeddings\n",
      "        - hiddens\n",
      "      global_batch_size: 370\n",
      "    target: bionemo.model.protein.esm1nv.esm1nv_model.ESM1nvModel\n",
      "    infer_target: bionemo.model.protein.esm1nv.infer.ESM1nvInference\n",
      "    formatters:\n",
      "      simple:\n",
      "        format: '[%(asctime)s][%(name)s][%(levelname)s] - %(message)s'\n",
      "    handlers:\n",
      "      console:\n",
      "        class: logging.StreamHandler\n",
      "        formatter: simple\n",
      "        stream: ext://sys.stdout\n",
      "      file:\n",
      "        class: logging.FileHandler\n",
      "        formatter: simple\n",
      "        filename: /logs/inference.log\n",
      "    root:\n",
      "      level: INFO\n",
      "      handlers:\n",
      "      - console\n",
      "    disable_existing_loggers: false\n",
      "    defaults:\n",
      "    - base_infer_config\n",
      "    - _self_\n",
      "    \n"
     ]
    },
    {
     "name": "stderr",
     "output_type": "stream",
     "text": [
      "[NeMo W 2023-07-27 14:34:21 nemo_logging:349] /usr/local/lib/python3.8/dist-packages/pytorch_lightning/plugins/precision/native_amp.py:131: LightningDeprecationWarning: The `NativeMixedPrecisionPlugin` class has been renamed in v1.9.0 and will be removed in v2.0.0. Please use `pytorch_lightning.plugins.MixedPrecisionPlugin` instead.\n",
      "      rank_zero_deprecation(\n",
      "    \n",
      "WARNING: Logging before flag parsing goes to stderr.\n",
      "I0727 14:34:21.926910 140004106114880 setup.py:163] GPU available: True (cuda), used: True\n",
      "I0727 14:34:21.927365 140004106114880 setup.py:166] TPU available: False, using: 0 TPU cores\n",
      "I0727 14:34:21.927497 140004106114880 setup.py:169] IPU available: False, using: 0 IPUs\n",
      "I0727 14:34:21.927585 140004106114880 setup.py:172] HPU available: False, using: 0 HPUs\n"
     ]
    },
    {
     "name": "stdout",
     "output_type": "stream",
     "text": [
      "[NeMo I 2023-07-27 14:34:22 megatron_init:231] Rank 0 has data parallel group: [0]\n",
      "[NeMo I 2023-07-27 14:34:22 megatron_init:234] All data parallel group ranks: [[0]]\n",
      "[NeMo I 2023-07-27 14:34:22 megatron_init:235] Ranks 0 has data parallel rank: 0\n",
      "[NeMo I 2023-07-27 14:34:22 megatron_init:243] Rank 0 has model parallel group: [0]\n",
      "[NeMo I 2023-07-27 14:34:22 megatron_init:244] All model parallel group ranks: [[0]]\n",
      "[NeMo I 2023-07-27 14:34:22 megatron_init:254] Rank 0 has tensor model parallel group: [0]\n",
      "[NeMo I 2023-07-27 14:34:22 megatron_init:258] All tensor model parallel group ranks: [[0]]\n",
      "[NeMo I 2023-07-27 14:34:22 megatron_init:259] Rank 0 has tensor model parallel rank: 0\n",
      "[NeMo I 2023-07-27 14:34:22 megatron_init:273] Rank 0 has pipeline model parallel group: [0]\n",
      "[NeMo I 2023-07-27 14:34:22 megatron_init:285] Rank 0 has embedding group: [0]\n",
      "[NeMo I 2023-07-27 14:34:22 megatron_init:291] All pipeline model parallel group ranks: [[0]]\n",
      "[NeMo I 2023-07-27 14:34:22 megatron_init:292] Rank 0 has pipeline model parallel rank 0\n",
      "[NeMo I 2023-07-27 14:34:22 megatron_init:293] All embedding group ranks: [[0]]\n",
      "[NeMo I 2023-07-27 14:34:22 megatron_init:294] Rank 0 has embedding rank: 0\n",
      "[NeMo I 2023-07-27 14:34:22 tokenizer_utils:191] Getting SentencePiece with model: /tmp/tmpeirluj_8/08a2085a60b3411fad6b6ff6bd6ae525_tokenizer_protein.sp.30.model\n",
      "[NeMo I 2023-07-27 14:34:22 megatron_base_model:229] Padded vocab_size: 128, original vocab_size: 30, dummy tokens: 98.\n",
      "[NeMo I 2023-07-27 14:34:22 nlp_overrides:396] Model ESM1nvModel was successfully restored from /tmp/nvflare/bionemo/embeddings/simulate_job/app_site-1/models/esm1nv.nemo.\n",
      "[NeMo I 2023-07-27 14:34:22 utils:338] DDP is not initialized. Initializing...\n",
      "2023-07-27 14:34:22,470 - lightning_fabric.utilities.distributed - INFO - Initializing distributed: GLOBAL_RANK: 0, MEMBER: 1/1\n",
      "2023-07-27 14:34:22,471 - pytorch_lightning.utilities.rank_zero - INFO - ----------------------------------------------------------------------------------------------------\n",
      "distributed_backend=nccl\n",
      "All distributed processes registered. Starting with 1 processes\n",
      "----------------------------------------------------------------------------------------------------\n",
      "\n",
      "[NeMo I 2023-07-27 14:34:22 text_memmap_dataset:104] Building data files\n",
      "[NeMo I 2023-07-27 14:34:22 text_memmap_dataset:343] Processing 1 data files using 6 workers\n"
     ]
    },
    {
     "name": "stderr",
     "output_type": "stream",
     "text": [
      "[NeMo W 2023-07-27 14:34:22 modelPT:245] You tried to register an artifact under config key=tokenizer.vocab_file but an artifact for it has already been registered.\n",
      "I0727 14:34:22.470390 140004106114880 distributed.py:244] Initializing distributed: GLOBAL_RANK: 0, MEMBER: 1/1\n",
      "I0727 14:34:22.471841 140004106114880 distributed.py:248] ----------------------------------------------------------------------------------------------------\n",
      "distributed_backend=nccl\n",
      "All distributed processes registered. Starting with 1 processes\n",
      "----------------------------------------------------------------------------------------------------\n",
      "\n",
      "[NeMo W 2023-07-27 14:34:22 nemo_logging:349] /usr/local/lib/python3.8/dist-packages/apex/transformer/pipeline_parallel/utils.py:81: UserWarning: This function is only for unittest\n",
      "      warnings.warn(\"This function is only for unittest\")\n",
      "    \n"
     ]
    },
    {
     "name": "stdout",
     "output_type": "stream",
     "text": [
      "[NeMo I 2023-07-27 14:34:22 text_memmap_dataset:349] Time building 0 / 1 mem-mapped files: 0:00:00.121425\n",
      "[NeMo I 2023-07-27 14:34:23 text_memmap_dataset:114] Loading data files\n",
      "[NeMo I 2023-07-27 14:34:23 text_memmap_dataset:205] Loading /tmp/data/FLIP/secondary_structure/test/x000.csv\n",
      "[NeMo I 2023-07-27 14:34:23 text_memmap_dataset:117] Time loading 1 mem-mapped files: 0:00:00.002352\n",
      "[NeMo I 2023-07-27 14:34:23 text_memmap_dataset:121] Computing global indices\n",
      "[NeMo I 2023-07-27 14:34:23 mapped_dataset:206] Filtered out (ignored) 24 samples ( 340 / 364 )\n",
      "2023-07-27 14:34:23,442 - pytorch_lightning.accelerators.cuda - INFO - LOCAL_RANK: 0 - CUDA_VISIBLE_DEVICES: [0,1]\n",
      "Predicting DataLoader 0:   0%|          | 0/3 [00:00<?, ?it/s]"
     ]
    },
    {
     "name": "stderr",
     "output_type": "stream",
     "text": [
      "I0727 14:34:23.442985 140004106114880 cuda.py:58] LOCAL_RANK: 0 - CUDA_VISIBLE_DEVICES: [0,1]\n"
     ]
    },
    {
     "name": "stdout",
     "output_type": "stream",
     "text": [
      "Predicting DataLoader 0: 100%|██████████| 3/3 [00:04<00:00,  1.41s/it]2023-07-27 14:34:28,865 - ServerRunner - INFO - [identity=simulator_server, run=simulate_job, wf=bionemo_inference, peer=site-1, peer_run=simulate_job]: got result from client site-1 for task: name=bionemo_inference, id=50372bf6-14c4-4e13-898d-9c924f43dbfd\n",
      "2023-07-27 14:34:28,869 - ServerRunner - INFO - [identity=simulator_server, run=simulate_job, wf=bionemo_inference, peer=site-1, peer_run=simulate_job, peer_rc=OK, task_name=bionemo_inference, task_id=50372bf6-14c4-4e13-898d-9c924f43dbfd]: finished processing client result by bionemo_inference\n",
      "2023-07-27 14:34:28,872 - SubmitUpdateCommand - INFO - submit_update process. client_name:site-1   task_id:50372bf6-14c4-4e13-898d-9c924f43dbfd\n",
      "2023-07-27 14:34:29,055 - BioNeMoInference - INFO - [identity=simulator_server, run=simulate_job, wf=bionemo_inference]: task bionemo_inference exit with status TaskCompletionStatus.OK\n",
      "2023-07-27 14:34:29,087 - BioNeMoInferenceProcessor - INFO - [identity=simulator_server, run=simulate_job, wf=bionemo_inference]: Clients inference responses: {'site-1': {'bionemo_number_sequences': 340}}\n",
      "2023-07-27 14:34:29,091 - ServerRunner - INFO - [identity=simulator_server, run=simulate_job, wf=bionemo_inference]: Workflow: bionemo_inference finalizing ...\n",
      "2023-07-27 14:34:29,259 - ServerRunner - INFO - [identity=simulator_server, run=simulate_job, wf=bionemo_inference]: ABOUT_TO_END_RUN fired\n",
      "2023-07-27 14:34:29,262 - ServerRunner - INFO - [identity=simulator_server, run=simulate_job, wf=bionemo_inference]: END_RUN fired\n",
      "2023-07-27 14:34:29,265 - ServerRunner - INFO - [identity=simulator_server, run=simulate_job, wf=bionemo_inference]: Server runner finished.\n",
      "2023-07-27 14:34:30,885 - ServerRunner - INFO - [identity=simulator_server, run=simulate_job, wf=bionemo_inference, peer=site-1, peer_run=simulate_job]: server runner is finalizing - asked client to end the run\n",
      "2023-07-27 14:34:30,888 - GetTaskCommand - INFO - return task to client.  client_name: site-1  task_name: __end_run__   task_id:   sharable_header_task_id: \n",
      "2023-07-27 14:34:30,894 - FederatedClient - INFO - Shutting down client run: site-1\n",
      "2023-07-27 14:34:30,896 - ServerRunner - INFO - [identity=simulator_server, run=simulate_job, wf=bionemo_inference]: asked to abort - triggered abort_signal to stop the RUN\n",
      "2023-07-27 14:34:32,024 - SimulatorServer - INFO - Server app stopped.\n",
      "\n",
      "\n",
      "2023-07-27 14:34:32,482 - nvflare.fuel.hci.server.hci - INFO - Admin Server localhost on Port 40065 shutdown!\n",
      "2023-07-27 14:34:32,485 - SimulatorServer - INFO - shutting down server\n",
      "2023-07-27 14:34:32,487 - SimulatorServer - INFO - canceling sync locks\n",
      "2023-07-27 14:34:32,490 - SimulatorServer - INFO - server off\n",
      "2023-07-27 14:34:35,950 - MPM - INFO - MPM: Good Bye!\n",
      "Simulator finished with run_status 0\n"
     ]
    }
   ],
   "source": [
    "from nvflare import SimulatorRunner    \n",
    "\n",
    "simulator = SimulatorRunner(\n",
    "    job_folder=\"jobs/embeddings\",\n",
    "    workspace=\"/tmp/nvflare/bionemo/embeddings\",\n",
    "    n_clients=1,\n",
    "    threads=1\n",
    ")\n",
    "run_status = simulator.run()\n",
    "print(\"Simulator finished with run_status\", run_status)"
   ]
  },
  {
   "cell_type": "markdown",
   "id": "ce7217ec",
   "metadata": {},
   "source": [
    "### Inspecting the embeddings and labels\n",
    "Embeddings returned from the BioNeMo server are vectors of fixed size for each input sequence. In other words, if we input 10 sequences, we will obtain a matrix `10xD`, where `D` is the size of the embedding (in the case of ESM-1nv, `D=768`). At a glance, these real-valued vector embeddings don't show any obvious features (see the printout in the next cell). But these vectors do contain information that can be used in downstream models to reveal properties of the protein, for example the subcellular location as we'll explore below."
   ]
  },
  {
   "cell_type": "code",
   "execution_count": 34,
   "id": "27760cbe",
   "metadata": {},
   "outputs": [
    {
     "ename": "NameError",
     "evalue": "name 'metadata' is not defined",
     "output_type": "error",
     "traceback": [
      "\u001b[0;31m---------------------------------------------------------------------------\u001b[0m",
      "\u001b[0;31mNameError\u001b[0m                                 Traceback (most recent call last)",
      "Cell \u001b[0;32mIn[34], line 3\u001b[0m\n\u001b[1;32m      1\u001b[0m \u001b[38;5;66;03m# Let's also print all the labels\u001b[39;00m\n\u001b[0;32m----> 3\u001b[0m labels \u001b[38;5;241m=\u001b[39m \u001b[38;5;28mset\u001b[39m([meta[\u001b[38;5;124m'\u001b[39m\u001b[38;5;124mTARGET\u001b[39m\u001b[38;5;124m'\u001b[39m] \u001b[38;5;28;01mfor\u001b[39;00m meta \u001b[38;5;129;01min\u001b[39;00m \u001b[43mmetadata\u001b[49m])\n\u001b[1;32m      5\u001b[0m \u001b[38;5;28;01mfor\u001b[39;00m i, label \u001b[38;5;129;01min\u001b[39;00m \u001b[38;5;28menumerate\u001b[39m(labels):\n\u001b[1;32m      6\u001b[0m     \u001b[38;5;28mprint\u001b[39m(\u001b[38;5;124mf\u001b[39m\u001b[38;5;124m\"\u001b[39m\u001b[38;5;132;01m{\u001b[39;00mi\u001b[38;5;241m+\u001b[39m\u001b[38;5;241m1\u001b[39m\u001b[38;5;132;01m}\u001b[39;00m\u001b[38;5;124m. \u001b[39m\u001b[38;5;132;01m{\u001b[39;00mlabel\u001b[38;5;241m.\u001b[39mreplace(\u001b[38;5;124m'\u001b[39m\u001b[38;5;124m_\u001b[39m\u001b[38;5;124m'\u001b[39m,\u001b[38;5;250m \u001b[39m\u001b[38;5;124m'\u001b[39m\u001b[38;5;124m \u001b[39m\u001b[38;5;124m'\u001b[39m)\u001b[38;5;132;01m}\u001b[39;00m\u001b[38;5;124m\"\u001b[39m)\n",
      "\u001b[0;31mNameError\u001b[0m: name 'metadata' is not defined"
     ]
    }
   ],
   "source": [
    "# Let's also print all the labels\n",
    "\n",
    "labels = set([meta['TARGET'] for meta in metadata])\n",
    "\n",
    "for i, label in enumerate(labels):\n",
    "    print(f\"{i+1}. {label.replace('_', ' ')}\")"
   ]
  },
  {
   "cell_type": "markdown",
   "id": "1dabfd3e",
   "metadata": {},
   "source": [
    "### Training a MLP to predict subcellular location"
   ]
  },
  {
   "cell_type": "code",
   "execution_count": null,
   "id": "a1669a47",
   "metadata": {},
   "outputs": [],
   "source": []
  }
 ],
 "metadata": {
  "kernelspec": {
   "display_name": "Python 3 (ipykernel)",
   "language": "python",
   "name": "python3"
  },
  "language_info": {
   "codemirror_mode": {
    "name": "ipython",
    "version": 3
   },
   "file_extension": ".py",
   "mimetype": "text/x-python",
   "name": "python",
   "nbconvert_exporter": "python",
   "pygments_lexer": "ipython3",
   "version": "3.8.10"
  }
 },
 "nbformat": 4,
 "nbformat_minor": 5
}
