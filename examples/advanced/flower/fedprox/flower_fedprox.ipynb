{
 "cells": [
  {
   "cell_type": "markdown",
   "id": "a6c92407-974d-45b5-b42f-de363b090966",
   "metadata": {},
   "source": [
    "# Flower launcher example with FedProx"
   ]
  },
  {
   "cell_type": "code",
   "execution_count": null,
   "id": "c8ee32ae-cee9-454e-9b68-3427a2b7e991",
   "metadata": {},
   "outputs": [],
   "source": [
    "!nvflare config -jt $PWD/../../../../job_templates"
   ]
  },
  {
   "cell_type": "code",
   "execution_count": null,
   "id": "3479da05-40df-4d47-b942-825c10e03a8a",
   "metadata": {},
   "outputs": [],
   "source": [
    "app_script=\"client.py\"\n",
    "\n",
    "!nvflare job create -force -j \"./jobs/_flwr_cifar10\" -w \"sag_pt\" -sd \"flwr_scripts\" -f app/config_fed_client.conf app_script={app_script}"
   ]
  },
  {
   "cell_type": "code",
   "execution_count": 12,
   "id": "9e23fe35-0a67-4a37-b22e-314e6898cd59",
   "metadata": {},
   "outputs": [
    {
     "name": "stdout",
     "output_type": "stream",
     "text": [
      "2024-03-01 17:06:12,108 - SimulatorRunner - INFO - Create the Simulator Server.\n",
      "2024-03-01 17:06:12,111 - CoreCell - INFO - server: creating listener on tcp://0:50099\n",
      "2024-03-01 17:06:12,127 - CoreCell - INFO - server: created backbone external listener for tcp://0:50099\n",
      "2024-03-01 17:06:12,128 - ConnectorManager - INFO - 169400: Try start_listener Listener resources: {'secure': False, 'host': 'localhost'}\n",
      "2024-03-01 17:06:12,130 - nvflare.fuel.f3.sfm.conn_manager - INFO - Connector [CH00002 PASSIVE tcp://0:34641] is starting\n",
      "2024-03-01 17:06:12,632 - CoreCell - INFO - server: created backbone internal listener for tcp://localhost:34641\n",
      "2024-03-01 17:06:12,635 - nvflare.fuel.f3.sfm.conn_manager - INFO - Connector [CH00001 PASSIVE tcp://0:50099] is starting\n",
      "2024-03-01 17:06:12,711 - nvflare.fuel.hci.server.hci - INFO - Starting Admin Server localhost on Port 45881\n",
      "2024-03-01 17:06:12,712 - SimulatorRunner - INFO - Deploy the Apps.\n",
      "2024-03-01 17:06:12,719 - SimulatorRunner - INFO - Create the simulate clients.\n",
      "2024-03-01 17:06:12,723 - ClientManager - INFO - Client: New client site-1@192.168.1.203 joined. Sent token: ffd2053b-063f-4471-ae66-ca6204ae9131.  Total clients: 1\n",
      "2024-03-01 17:06:12,725 - FederatedClient - INFO - Successfully registered client:site-1 for project simulator_server. Token:ffd2053b-063f-4471-ae66-ca6204ae9131 SSID:\n",
      "2024-03-01 17:06:12,726 - SimulatorRunner - INFO - Set the client status ready.\n",
      "2024-03-01 17:06:12,727 - SimulatorRunner - INFO - Deploy and start the Server App.\n",
      "2024-03-01 17:06:12,730 - Cell - INFO - Register blob CB for channel='server_command', topic='*'\n",
      "2024-03-01 17:06:12,732 - Cell - INFO - Register blob CB for channel='aux_communication', topic='*'\n",
      "2024-03-01 17:06:12,732 - ServerCommandAgent - INFO - ServerCommandAgent cell register_request_cb: server.simulate_job\n"
     ]
    },
    {
     "name": "stderr",
     "output_type": "stream",
     "text": [
      "/media/hroth/NVIDIA/home_old/hroth/Code2/flower/baselines/fedprox/.venv_fedprox/lib/python3.10/site-packages/nvflare/fuel/utils/class_utils.py:54: Warning: Use of experimental class ModelController (<class 'nvflare.app_common.workflows.model_controller.ModelController'>).\n",
      "  instance = c(**init_params)\n"
     ]
    },
    {
     "name": "stdout",
     "output_type": "stream",
     "text": [
      "2024-03-01 17:06:14,131 - ServerRunner - INFO - [identity=simulator_server, run=simulate_job]: Server runner starting ...\n",
      "2024-03-01 17:06:14,133 - ServerRunner - INFO - [identity=simulator_server, run=simulate_job]: starting workflow controller_launcher (<class 'controller_launcher.ControllerLauncher'>) ...\n",
      "2024-03-01 17:06:14,135 - ControllerLauncher - INFO - [identity=simulator_server, run=simulate_job, wf=controller_launcher]: Initializing ModelController workflow.\n",
      "2024-03-01 17:06:14,138 - ServerRunner - INFO - [identity=simulator_server, run=simulate_job, wf=controller_launcher]: Workflow controller_launcher (<class 'controller_launcher.ControllerLauncher'>) started\n",
      "2024-03-01 17:06:14,139 - ControllerLauncher - INFO - [identity=simulator_server, run=simulate_job, wf=controller_launcher]: Beginning model controller run.\n",
      "2024-03-01 17:06:14,140 - ControllerLauncher - INFO - [identity=simulator_server, run=simulate_job, wf=controller_launcher]: Start Controller Launcher.\n",
      "2024-03-01 17:06:14,670 - SubprocessLauncher - INFO - Run Server code...\n",
      "2024-03-01 17:06:14,743 - SimulatorClientRunner - INFO - Start the clients run simulation.\n",
      "2024-03-01 17:06:15,747 - SimulatorClientRunner - INFO - Simulate Run client: site-1 on GPU group: None\n",
      "2024-03-01 17:06:16,851 - nvflare.fuel.f3.sfm.conn_manager - INFO - Connection [CN00004 127.0.0.1:50099 <= 127.0.0.1:58144] is created: PID: 169400\n",
      "2024-03-01 17:06:16,786 - ClientTaskWorker - INFO - ClientTaskWorker started to run\n",
      "2024-03-01 17:06:16,848 - CoreCell - INFO - site-1.simulate_job: created backbone external connector to tcp://localhost:50099\n",
      "2024-03-01 17:06:16,849 - nvflare.fuel.f3.sfm.conn_manager - INFO - Connector [CH00001 ACTIVE tcp://localhost:50099] is starting\n",
      "2024-03-01 17:06:16,850 - nvflare.fuel.f3.sfm.conn_manager - INFO - Connection [CN00002 127.0.0.1:58144 => 127.0.0.1:50099] is created: PID: 169506\n",
      "2024-03-01 17:06:18,207 - Cell - INFO - Register blob CB for channel='aux_communication', topic='*'\n",
      "2024-03-01 17:06:18,729 - nvflare.fuel.f3.sfm.conn_manager - INFO - Connection [CN00005 127.0.0.1:50099 <= 127.0.0.1:42014] is created: PID: 169400\n",
      "2024-03-01 17:06:18,713 - Cell - INFO - broadcast: channel='aux_communication', topic='__sync_runner__', targets=['server.simulate_job'], timeout=2.0\n",
      "2024-03-01 17:06:18,726 - ClientRunner - INFO - [identity=site-1, run=simulate_job]: synced to Server Runner in 0.5141777992248535 seconds\n",
      "2024-03-01 17:06:18,727 - CoreCell - INFO - site-1_simulate_job_passive: created backbone external connector to tcp://0:50099\n",
      "2024-03-01 17:06:18,727 - nvflare.fuel.f3.sfm.conn_manager - INFO - Connector [CH00002 ACTIVE tcp://0:50099] is starting\n",
      "2024-03-01 17:06:18,728 - nvflare.fuel.f3.sfm.conn_manager - INFO - Connection [CN00004 127.0.0.1:42014 => 127.0.0.1:50099] is created: PID: 169506\n",
      "2024-03-01 17:06:18,729 - CellPipe - INFO - registered CellPipe request CB for cell_pipe.metric\n",
      "2024-03-01 17:06:18,731 - CellPipe - INFO - registered CellPipe request CB for cell_pipe.task\n",
      "2024-03-01 17:06:18,736 - ClientRunner - INFO - [identity=site-1, run=simulate_job]: client runner started\n",
      "2024-03-01 17:06:18,736 - ClientTaskWorker - INFO - Initialize ClientRunner for client: site-1\n",
      "Running task ... [python3 custom/server.py   ]\n",
      "Running task ... [python3 custom/server.py   ]\n",
      "Running task ... [python3 custom/server.py   ]\n",
      "2024-03-01 17:06:48,781 - MetricRelay - INFO - metric pipe status changed to _PEER_GONE_\n",
      "100.0%3-01 17:06:49,513 - SubprocessLauncher - INFO - \n",
      "2024-03-01 17:06:51,680 - SubprocessLauncher - INFO - WARNING flwr 2024-03-01 17:06:51,680 | logger.py:118 |\n",
      "2024-03-01 17:06:51,681 - SubprocessLauncher - INFO -         DEPRECATED FEATURE: flwr.client.start_numpy_client() is deprecated.\n",
      "2024-03-01 17:06:51,681 - SubprocessLauncher - INFO - \tInstead, use `flwr.client.start_client()` by ensuring you first call the `.to_client()` method as shown below:\n",
      "2024-03-01 17:06:51,681 - SubprocessLauncher - INFO - \tflwr.client.start_client(\n",
      "2024-03-01 17:06:51,681 - SubprocessLauncher - INFO - \t\tserver_address='<IP>:<PORT>',\n",
      "2024-03-01 17:06:51,681 - SubprocessLauncher - INFO - \t\tclient=FlowerClient().to_client(), # <-- where FlowerClient is of type flwr.client.NumPyClient object\n",
      "2024-03-01 17:06:51,681 - SubprocessLauncher - INFO - \t)\n",
      "2024-03-01 17:06:51,681 - SubprocessLauncher - INFO - \tUsing `start_numpy_client()` is deprecated.\n",
      "2024-03-01 17:06:51,682 - SubprocessLauncher - INFO - \n",
      "2024-03-01 17:06:51,682 - SubprocessLauncher - INFO -         This is a deprecated feature. It will be removed\n",
      "2024-03-01 17:06:51,682 - SubprocessLauncher - INFO -         entirely in future versions of Flower.\n",
      "2024-03-01 17:06:51,682 - SubprocessLauncher - INFO - \n",
      "2024-03-01 17:06:51,686 - SubprocessLauncher - INFO - INFO flwr 2024-03-01 17:06:51,686 | grpc.py:52 | Opened insecure gRPC connection (no certificates were passed)\n",
      "2024-03-01 17:06:51,688 - SubprocessLauncher - INFO - DEBUG flwr 2024-03-01 17:06:51,688 | connection.py:55 | ChannelConnectivity.IDLE\n",
      "2024-03-01 17:06:51,688 - SubprocessLauncher - INFO - DEBUG flwr 2024-03-01 17:06:51,688 | connection.py:55 | ChannelConnectivity.CONNECTING\n",
      "2024-03-01 17:06:51,691 - SubprocessLauncher - INFO - DEBUG flwr 2024-03-01 17:06:51,691 | connection.py:220 | gRPC channel closed\n",
      "2024-03-01 17:06:51,691 - SubprocessLauncher - INFO - Downloading https://www.cs.toronto.edu/~kriz/cifar-10-python.tar.gz to ./data/cifar-10-python.tar.gz\n",
      "2024-03-01 17:06:51,691 - SubprocessLauncher - INFO - Extracting ./data/cifar-10-python.tar.gz to ./data\n",
      "2024-03-01 17:06:51,691 - SubprocessLauncher - INFO - Files already downloaded and verified\n",
      "2024-03-01 17:06:51,691 - SubprocessLauncher - INFO - Traceback (most recent call last):\n",
      "2024-03-01 17:06:51,691 - SubprocessLauncher - INFO -   File \"/tmp/nvflare/flwr_cifar10/simulate_job/app_site-1/custom/client.py\", line 98, in <module>\n",
      "2024-03-01 17:06:51,691 - SubprocessLauncher - INFO -     fl.client.start_numpy_client(server_address=\"0.0.0.0:8080\", client=FlowerClient(), insecure=True)  # \"127.0.0.1:8080\"\n",
      "2024-03-01 17:06:51,692 - SubprocessLauncher - INFO -   File \"/media/hroth/NVIDIA/home_old/hroth/Code2/flower/baselines/fedprox/.venv_fedprox/lib/python3.10/site-packages/flwr/client/app.py\", line 500, in start_numpy_client\n",
      "2024-03-01 17:06:51,692 - SubprocessLauncher - INFO -     start_client(\n",
      "2024-03-01 17:06:51,692 - SubprocessLauncher - INFO -   File \"/media/hroth/NVIDIA/home_old/hroth/Code2/flower/baselines/fedprox/.venv_fedprox/lib/python3.10/site-packages/flwr/client/app.py\", line 248, in start_client\n",
      "2024-03-01 17:06:51,692 - SubprocessLauncher - INFO -     _start_client_internal(\n",
      "2024-03-01 17:06:51,692 - SubprocessLauncher - INFO -   File \"/media/hroth/NVIDIA/home_old/hroth/Code2/flower/baselines/fedprox/.venv_fedprox/lib/python3.10/site-packages/flwr/client/app.py\", line 361, in _start_client_internal\n",
      "2024-03-01 17:06:51,692 - SubprocessLauncher - INFO -     message = receive()\n",
      "2024-03-01 17:06:51,692 - SubprocessLauncher - INFO -   File \"/media/hroth/NVIDIA/home_old/hroth/Code2/flower/baselines/fedprox/.venv_fedprox/lib/python3.10/site-packages/flwr/client/grpc_client/connection.py\", line 132, in receive\n",
      "2024-03-01 17:06:51,692 - SubprocessLauncher - INFO -     proto = next(server_message_iterator)\n",
      "2024-03-01 17:06:51,692 - SubprocessLauncher - INFO -   File \"/media/hroth/NVIDIA/home_old/hroth/Code2/flower/baselines/fedprox/.venv_fedprox/lib/python3.10/site-packages/grpc/_channel.py\", line 426, in __next__\n",
      "2024-03-01 17:06:51,692 - SubprocessLauncher - INFO -     return self._next()\n",
      "2024-03-01 17:06:51,692 - SubprocessLauncher - INFO -   File \"/media/hroth/NVIDIA/home_old/hroth/Code2/flower/baselines/fedprox/.venv_fedprox/lib/python3.10/site-packages/grpc/_channel.py\", line 826, in _next\n",
      "2024-03-01 17:06:51,692 - SubprocessLauncher - INFO -     raise self\n",
      "2024-03-01 17:06:51,692 - SubprocessLauncher - INFO - grpc._channel._MultiThreadedRendezvous: <_MultiThreadedRendezvous of RPC that terminated with:\n",
      "2024-03-01 17:06:51,692 - SubprocessLauncher - INFO - \tstatus = StatusCode.UNAVAILABLE\n",
      "2024-03-01 17:06:51,692 - SubprocessLauncher - INFO - \tdetails = \"failed to connect to all addresses; last error: UNKNOWN: ipv4:0.0.0.0:8080: Failed to connect to remote host: Connection refused\"\n",
      "2024-03-01 17:06:51,692 - SubprocessLauncher - INFO - \tdebug_error_string = \"UNKNOWN:failed to connect to all addresses; last error: UNKNOWN: ipv4:0.0.0.0:8080: Failed to connect to remote host: Connection refused {created_time:\"2024-03-01T17:06:51.689676657-05:00\", grpc_status:14}\"\n",
      "2024-03-01 17:06:51,692 - SubprocessLauncher - INFO - >\n",
      "Running task ... [python3 custom/server.py   ]\n",
      "Running task ... [python3 custom/server.py   ]\n",
      "Running task ... [python3 custom/server.py   ]\n",
      "2024-03-01 17:07:18,832 - nvflare.fuel.f3.sfm.conn_manager - INFO - Connection [CN00005 Not Connected] is closed PID: 169400\n",
      "2024-03-01 17:07:18,829 - PTClientAPILauncherExecutor - INFO - pipe status changed to _PEER_GONE_\n",
      "2024-03-01 17:07:18,832 - nvflare.fuel.f3.sfm.conn_manager - INFO - Connection [CN00004 Not Connected] is closed PID: 169506\n",
      "Running task ... [python3 custom/server.py   ]\n",
      "Running task ... [python3 custom/server.py   ]\n",
      "Running task ... [python3 custom/server.py   ]\n",
      "Running task ... [python3 custom/server.py   ]\n",
      "Running task ... [python3 custom/server.py   ]\n",
      "Running task ... [python3 custom/server.py   ]\n",
      "Running task ... [python3 custom/server.py   ]\n",
      "Running task ... [python3 custom/server.py   ]\n",
      "Running task ... [python3 custom/server.py   ]\n",
      "Running task ... [python3 custom/server.py   ]\n",
      "Running task ... [python3 custom/server.py   ]\n",
      "Running task ... [python3 custom/server.py   ]\n",
      "Running task ... [python3 custom/server.py   ]\n"
     ]
    },
    {
     "name": "stderr",
     "output_type": "stream",
     "text": [
      "Process Process-20:\n",
      "Traceback (most recent call last):\n",
      "  File \"/usr/lib/python3.10/multiprocessing/process.py\", line 314, in _bootstrap\n",
      "    self.run()\n",
      "  File \"/usr/lib/python3.10/multiprocessing/process.py\", line 108, in run\n",
      "    self._target(*self._args, **self._kwargs)\n",
      "  File \"/media/hroth/NVIDIA/home_old/hroth/Code2/flower/baselines/fedprox/.venv_fedprox/lib/python3.10/site-packages/nvflare/private/fed/app/simulator/simulator_runner.py\", line 383, in run_process\n",
      "    run_status = mpm.run(\n",
      "  File \"/media/hroth/NVIDIA/home_old/hroth/Code2/flower/baselines/fedprox/.venv_fedprox/lib/python3.10/site-packages/nvflare/fuel/f3/mpm.py\", line 154, in run\n",
      "    rc = main_func(**kwargs)\n",
      "  File \"/media/hroth/NVIDIA/home_old/hroth/Code2/flower/baselines/fedprox/.venv_fedprox/lib/python3.10/site-packages/nvflare/private/fed/app/simulator/simulator_runner.py\", line 430, in simulator_run_main\n",
      "    executor.shutdown()\n",
      "  File \"/usr/lib/python3.10/concurrent/futures/thread.py\", line 235, in shutdown\n",
      "    t.join()\n",
      "  File \"/usr/lib/python3.10/threading.py\", line 1096, in join\n",
      "    self._wait_for_tstate_lock()\n",
      "  File \"/usr/lib/python3.10/threading.py\", line 1116, in _wait_for_tstate_lock\n",
      "    if lock.acquire(block, timeout):\n",
      "KeyboardInterrupt\n"
     ]
    },
    {
     "name": "stdout",
     "output_type": "stream",
     "text": [
      "Simulator finished with run_status -9\n"
     ]
    }
   ],
   "source": [
    "from nvflare import SimulatorRunner    \n",
    "\n",
    "n_clients = 1\n",
    "\n",
    "simulator = SimulatorRunner(\n",
    "    job_folder=f\"./jobs/flwr_cifar10\",\n",
    "    workspace=f\"/tmp/nvflare/flwr_cifar10\",\n",
    "    n_clients=n_clients,\n",
    "    threads=n_clients\n",
    ")\n",
    "run_status = simulator.run()\n",
    "print(\"Simulator finished with run_status\", run_status)"
   ]
  },
  {
   "cell_type": "code",
   "execution_count": null,
   "id": "c90df20b-f3b3-4d4b-885b-830874a49552",
   "metadata": {},
   "outputs": [],
   "source": []
  }
 ],
 "metadata": {
  "kernelspec": {
   "display_name": "Python 3 (ipykernel)",
   "language": "python",
   "name": "python3"
  },
  "language_info": {
   "codemirror_mode": {
    "name": "ipython",
    "version": 3
   },
   "file_extension": ".py",
   "mimetype": "text/x-python",
   "name": "python",
   "nbconvert_exporter": "python",
   "pygments_lexer": "ipython3",
   "version": "3.10.12"
  }
 },
 "nbformat": 4,
 "nbformat_minor": 5
}
