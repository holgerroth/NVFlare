{
 "cells": [
  {
   "cell_type": "markdown",
   "id": "a6c92407-974d-45b5-b42f-de363b090966",
   "metadata": {},
   "source": [
    "# Running Flower using NVIDIA FLARE Runtime"
   ]
  },
  {
   "cell_type": "code",
   "execution_count": null,
   "id": "88e86dad-ba2d-454a-9315-631691673ea4",
   "metadata": {},
   "outputs": [],
   "source": [
    "#!pip install nvflare flwr flwr_datasets"
   ]
  },
  {
   "cell_type": "markdown",
   "id": "53fc6251-8141-4c2d-902b-0892e50f1184",
   "metadata": {},
   "source": [
    "## Running Flower's PyTorch-Quickstart\n",
    "Run 3 Flower clients and Flower Server in parallel using NVFlare's simulator."
   ]
  },
  {
   "cell_type": "code",
   "execution_count": null,
   "id": "9e23fe35-0a67-4a37-b22e-314e6898cd59",
   "metadata": {},
   "outputs": [],
   "source": [
    "from nvflare import SimulatorRunner    \n",
    "\n",
    "n_clients = 3\n",
    "\n",
    "simulator = SimulatorRunner(\n",
    "    job_folder=f\"./jobs/flwr_cifar10\",\n",
    "    workspace=f\"/tmp/nvflare/flwr_cifar10\",\n",
    "    n_clients=n_clients,\n",
    "    threads=n_clients\n",
    ")\n",
    "run_status = simulator.run()\n",
    "print(\"Simulator finished with run_status\", run_status)"
   ]
  },
  {
   "cell_type": "code",
   "execution_count": null,
   "id": "fd0c39da-81c3-4d5e-ac0f-06e0453d0f05",
   "metadata": {},
   "outputs": [],
   "source": []
  },
  {
   "cell_type": "markdown",
   "id": "b452ff94-cf23-4788-9f55-a0b675849910",
   "metadata": {},
   "source": [
    "## Running Flower's PyTorch-Quickstart + TensorBoard streaming\n",
    "Run 3 Flower clients and Flower Server in parallel using NVFlare's simulator.\n",
    "\n",
    "Stream the TensorBoard metrics to the server at each iteration using NVFlare's metric streaming."
   ]
  },
  {
   "cell_type": "code",
   "execution_count": null,
   "id": "c90df20b-f3b3-4d4b-885b-830874a49552",
   "metadata": {},
   "outputs": [],
   "source": [
    "from nvflare import SimulatorRunner    \n",
    "\n",
    "n_clients = 3\n",
    "\n",
    "simulator = SimulatorRunner(\n",
    "    job_folder=f\"./jobs/flwr_cifar10_tb_streaming\",  # or mlflow, wandb\n",
    "    workspace=f\"/tmp/nvflare/flwr_cifar10_tb_streaming\",\n",
    "    n_clients=n_clients,\n",
    "    threads=n_clients\n",
    ")\n",
    "run_status = simulator.run()\n",
    "print(\"Simulator finished with run_status\", run_status)"
   ]
  },
  {
   "cell_type": "markdown",
   "id": "b5210ed3-6ede-449a-8afa-f5308c23f7c4",
   "metadata": {},
   "source": [
    "#### Visualize in TensorBoard"
   ]
  },
  {
   "cell_type": "code",
   "execution_count": null,
   "id": "f525b4e1-40ed-4f45-9f49-38d191cd99cf",
   "metadata": {},
   "outputs": [],
   "source": [
    "#!pip install tensorboard\n",
    "\n",
    "#!tensorboard --logdir /tmp/nvflare/flwr_cifar10_tb_streaming"
   ]
  }
 ],
 "metadata": {
  "kernelspec": {
   "display_name": "Python 3 (ipykernel)",
   "language": "python",
   "name": "python3"
  },
  "language_info": {
   "codemirror_mode": {
    "name": "ipython",
    "version": 3
   },
   "file_extension": ".py",
   "mimetype": "text/x-python",
   "name": "python",
   "nbconvert_exporter": "python",
   "pygments_lexer": "ipython3",
   "version": "3.10.11"
  }
 },
 "nbformat": 4,
 "nbformat_minor": 5
}
